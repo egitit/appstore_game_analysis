{
 "cells": [
  {
   "cell_type": "code",
   "execution_count": 1,
   "metadata": {
    "ExecuteTime": {
     "end_time": "2020-12-17T18:37:28.702065Z",
     "start_time": "2020-12-17T18:37:26.742630Z"
    }
   },
   "outputs": [],
   "source": [
    "import pandas as pd\n",
    "import numpy as np\n",
    "import seaborn as sns\n",
    "sns.set()\n",
    "import matplotlib.pyplot as plt\n",
    "%matplotlib inline\n",
    "#from collections import Counter"
   ]
  },
  {
   "cell_type": "code",
   "execution_count": 2,
   "metadata": {
    "ExecuteTime": {
     "end_time": "2020-12-17T18:37:28.709464Z",
     "start_time": "2020-12-17T18:37:28.704571Z"
    }
   },
   "outputs": [],
   "source": [
    "google_file = \"/Users/Lisa/Desktop/appstore_games/Google_Playstore.csv\""
   ]
  },
  {
   "cell_type": "code",
   "execution_count": 3,
   "metadata": {
    "ExecuteTime": {
     "end_time": "2020-12-17T18:37:35.570715Z",
     "start_time": "2020-12-17T18:37:28.714871Z"
    }
   },
   "outputs": [],
   "source": [
    "df = pd.read_csv(google_file)"
   ]
  },
  {
   "cell_type": "code",
   "execution_count": 4,
   "metadata": {
    "ExecuteTime": {
     "end_time": "2020-12-17T18:37:36.351761Z",
     "start_time": "2020-12-17T18:37:35.572783Z"
    },
    "scrolled": true
   },
   "outputs": [
    {
     "name": "stdout",
     "output_type": "stream",
     "text": [
      "<class 'pandas.core.frame.DataFrame'>\n",
      "RangeIndex: 1118136 entries, 0 to 1118135\n",
      "Data columns (total 23 columns):\n",
      " #   Column             Non-Null Count    Dtype  \n",
      "---  ------             --------------    -----  \n",
      " 0   App Name           1118135 non-null  object \n",
      " 1   App Id             1118136 non-null  object \n",
      " 2   Category           1118133 non-null  object \n",
      " 3   Rating             1111286 non-null  float64\n",
      " 4   Rating Count       1111286 non-null  float64\n",
      " 5   Installs           1117975 non-null  object \n",
      " 6   Minimum Installs   1117975 non-null  float64\n",
      " 7   Maximum Installs   1118136 non-null  int64  \n",
      " 8   Free               1118136 non-null  bool   \n",
      " 9   Price              1118136 non-null  float64\n",
      " 10  Currency           1117975 non-null  object \n",
      " 11  Size               1118136 non-null  object \n",
      " 12  Minimum Android    1116123 non-null  object \n",
      " 13  Developer Id       1118134 non-null  object \n",
      " 14  Developer Website  703770 non-null   object \n",
      " 15  Developer Email    1118114 non-null  object \n",
      " 16  Released           1110406 non-null  object \n",
      " 17  Last Updated       1118136 non-null  object \n",
      " 18  Content Rating     1118136 non-null  object \n",
      " 19  Privacy Policy     964612 non-null   object \n",
      " 20  Ad Supported       1118136 non-null  bool   \n",
      " 21  In App Purchases   1118136 non-null  bool   \n",
      " 22  Editors Choice     1118136 non-null  bool   \n",
      "dtypes: bool(4), float64(4), int64(1), object(14)\n",
      "memory usage: 166.3+ MB\n"
     ]
    }
   ],
   "source": [
    "df.info()"
   ]
  },
  {
   "cell_type": "code",
   "execution_count": 5,
   "metadata": {
    "ExecuteTime": {
     "end_time": "2020-12-17T18:37:36.364890Z",
     "start_time": "2020-12-17T18:37:36.354102Z"
    }
   },
   "outputs": [
    {
     "data": {
      "text/plain": [
       "Index(['App Name', 'App Id', 'Category', 'Rating', 'Rating Count', 'Installs',\n",
       "       'Minimum Installs', 'Maximum Installs', 'Free', 'Price', 'Currency',\n",
       "       'Size', 'Minimum Android', 'Developer Id', 'Developer Website',\n",
       "       'Developer Email', 'Released', 'Last Updated', 'Content Rating',\n",
       "       'Privacy Policy', 'Ad Supported', 'In App Purchases', 'Editors Choice'],\n",
       "      dtype='object')"
      ]
     },
     "execution_count": 5,
     "metadata": {},
     "output_type": "execute_result"
    }
   ],
   "source": [
    "df.columns"
   ]
  },
  {
   "cell_type": "code",
   "execution_count": 6,
   "metadata": {
    "ExecuteTime": {
     "end_time": "2020-12-17T18:37:36.580652Z",
     "start_time": "2020-12-17T18:37:36.368222Z"
    },
    "scrolled": false
   },
   "outputs": [],
   "source": [
    "df.drop([\"App Id\", \"Installs\", \"Developer Email\", \"Privacy Policy\", \"Currency\", \"Developer Website\", \"Released\", \"Last Updated\", \"Developer Id\", \"Size\", \"Minimum Android\"], axis=\"columns\", inplace=True)"
   ]
  },
  {
   "cell_type": "code",
   "execution_count": 7,
   "metadata": {
    "ExecuteTime": {
     "end_time": "2020-12-17T18:37:36.985147Z",
     "start_time": "2020-12-17T18:37:36.584701Z"
    },
    "scrolled": true
   },
   "outputs": [
    {
     "data": {
      "text/html": [
       "<div>\n",
       "<style scoped>\n",
       "    .dataframe tbody tr th:only-of-type {\n",
       "        vertical-align: middle;\n",
       "    }\n",
       "\n",
       "    .dataframe tbody tr th {\n",
       "        vertical-align: top;\n",
       "    }\n",
       "\n",
       "    .dataframe thead th {\n",
       "        text-align: right;\n",
       "    }\n",
       "</style>\n",
       "<table border=\"1\" class=\"dataframe\">\n",
       "  <thead>\n",
       "    <tr style=\"text-align: right;\">\n",
       "      <th></th>\n",
       "      <th>App Name</th>\n",
       "      <th>Rating</th>\n",
       "      <th>Rating Count</th>\n",
       "      <th>Minimum Installs</th>\n",
       "      <th>Maximum Installs</th>\n",
       "      <th>Free</th>\n",
       "      <th>Price</th>\n",
       "      <th>Content Rating</th>\n",
       "      <th>Ad Supported</th>\n",
       "      <th>In App Purchases</th>\n",
       "      <th>Editors Choice</th>\n",
       "    </tr>\n",
       "    <tr>\n",
       "      <th>Category</th>\n",
       "      <th></th>\n",
       "      <th></th>\n",
       "      <th></th>\n",
       "      <th></th>\n",
       "      <th></th>\n",
       "      <th></th>\n",
       "      <th></th>\n",
       "      <th></th>\n",
       "      <th></th>\n",
       "      <th></th>\n",
       "      <th></th>\n",
       "    </tr>\n",
       "  </thead>\n",
       "  <tbody>\n",
       "    <tr>\n",
       "      <th>Education</th>\n",
       "      <td>115242</td>\n",
       "      <td>114865</td>\n",
       "      <td>114865</td>\n",
       "      <td>115237</td>\n",
       "      <td>115242</td>\n",
       "      <td>115242</td>\n",
       "      <td>115242</td>\n",
       "      <td>115242</td>\n",
       "      <td>115242</td>\n",
       "      <td>115242</td>\n",
       "      <td>115242</td>\n",
       "    </tr>\n",
       "    <tr>\n",
       "      <th>Music &amp; Audio</th>\n",
       "      <td>104541</td>\n",
       "      <td>104441</td>\n",
       "      <td>104441</td>\n",
       "      <td>104540</td>\n",
       "      <td>104541</td>\n",
       "      <td>104541</td>\n",
       "      <td>104541</td>\n",
       "      <td>104541</td>\n",
       "      <td>104541</td>\n",
       "      <td>104541</td>\n",
       "      <td>104541</td>\n",
       "    </tr>\n",
       "    <tr>\n",
       "      <th>Entertainment</th>\n",
       "      <td>82079</td>\n",
       "      <td>81896</td>\n",
       "      <td>81896</td>\n",
       "      <td>82078</td>\n",
       "      <td>82079</td>\n",
       "      <td>82079</td>\n",
       "      <td>82079</td>\n",
       "      <td>82079</td>\n",
       "      <td>82079</td>\n",
       "      <td>82079</td>\n",
       "      <td>82079</td>\n",
       "    </tr>\n",
       "    <tr>\n",
       "      <th>Books &amp; Reference</th>\n",
       "      <td>78969</td>\n",
       "      <td>78886</td>\n",
       "      <td>78886</td>\n",
       "      <td>78969</td>\n",
       "      <td>78969</td>\n",
       "      <td>78969</td>\n",
       "      <td>78969</td>\n",
       "      <td>78969</td>\n",
       "      <td>78969</td>\n",
       "      <td>78969</td>\n",
       "      <td>78969</td>\n",
       "    </tr>\n",
       "    <tr>\n",
       "      <th>Personalization</th>\n",
       "      <td>73538</td>\n",
       "      <td>73418</td>\n",
       "      <td>73418</td>\n",
       "      <td>73537</td>\n",
       "      <td>73538</td>\n",
       "      <td>73538</td>\n",
       "      <td>73538</td>\n",
       "      <td>73538</td>\n",
       "      <td>73538</td>\n",
       "      <td>73538</td>\n",
       "      <td>73538</td>\n",
       "    </tr>\n",
       "    <tr>\n",
       "      <th>Tools</th>\n",
       "      <td>68953</td>\n",
       "      <td>68273</td>\n",
       "      <td>68273</td>\n",
       "      <td>68950</td>\n",
       "      <td>68953</td>\n",
       "      <td>68953</td>\n",
       "      <td>68953</td>\n",
       "      <td>68953</td>\n",
       "      <td>68953</td>\n",
       "      <td>68953</td>\n",
       "      <td>68953</td>\n",
       "    </tr>\n",
       "    <tr>\n",
       "      <th>Lifestyle</th>\n",
       "      <td>54586</td>\n",
       "      <td>54434</td>\n",
       "      <td>54434</td>\n",
       "      <td>54586</td>\n",
       "      <td>54586</td>\n",
       "      <td>54586</td>\n",
       "      <td>54586</td>\n",
       "      <td>54586</td>\n",
       "      <td>54586</td>\n",
       "      <td>54586</td>\n",
       "      <td>54586</td>\n",
       "    </tr>\n",
       "    <tr>\n",
       "      <th>Business</th>\n",
       "      <td>42210</td>\n",
       "      <td>41835</td>\n",
       "      <td>41835</td>\n",
       "      <td>42209</td>\n",
       "      <td>42210</td>\n",
       "      <td>42210</td>\n",
       "      <td>42210</td>\n",
       "      <td>42210</td>\n",
       "      <td>42210</td>\n",
       "      <td>42210</td>\n",
       "      <td>42210</td>\n",
       "    </tr>\n",
       "    <tr>\n",
       "      <th>Health &amp; Fitness</th>\n",
       "      <td>31532</td>\n",
       "      <td>31269</td>\n",
       "      <td>31269</td>\n",
       "      <td>31532</td>\n",
       "      <td>31532</td>\n",
       "      <td>31532</td>\n",
       "      <td>31532</td>\n",
       "      <td>31532</td>\n",
       "      <td>31532</td>\n",
       "      <td>31532</td>\n",
       "      <td>31532</td>\n",
       "    </tr>\n",
       "    <tr>\n",
       "      <th>Productivity</th>\n",
       "      <td>30450</td>\n",
       "      <td>30087</td>\n",
       "      <td>30087</td>\n",
       "      <td>30448</td>\n",
       "      <td>30450</td>\n",
       "      <td>30450</td>\n",
       "      <td>30450</td>\n",
       "      <td>30450</td>\n",
       "      <td>30450</td>\n",
       "      <td>30450</td>\n",
       "      <td>30450</td>\n",
       "    </tr>\n",
       "    <tr>\n",
       "      <th>Photography</th>\n",
       "      <td>28942</td>\n",
       "      <td>28873</td>\n",
       "      <td>28873</td>\n",
       "      <td>28942</td>\n",
       "      <td>28942</td>\n",
       "      <td>28942</td>\n",
       "      <td>28942</td>\n",
       "      <td>28942</td>\n",
       "      <td>28942</td>\n",
       "      <td>28942</td>\n",
       "      <td>28942</td>\n",
       "    </tr>\n",
       "    <tr>\n",
       "      <th>Travel &amp; Local</th>\n",
       "      <td>25971</td>\n",
       "      <td>25775</td>\n",
       "      <td>25775</td>\n",
       "      <td>25970</td>\n",
       "      <td>25971</td>\n",
       "      <td>25971</td>\n",
       "      <td>25971</td>\n",
       "      <td>25971</td>\n",
       "      <td>25971</td>\n",
       "      <td>25971</td>\n",
       "      <td>25971</td>\n",
       "    </tr>\n",
       "    <tr>\n",
       "      <th>Finance</th>\n",
       "      <td>24846</td>\n",
       "      <td>24673</td>\n",
       "      <td>24673</td>\n",
       "      <td>24846</td>\n",
       "      <td>24846</td>\n",
       "      <td>24846</td>\n",
       "      <td>24846</td>\n",
       "      <td>24846</td>\n",
       "      <td>24846</td>\n",
       "      <td>24846</td>\n",
       "      <td>24846</td>\n",
       "    </tr>\n",
       "    <tr>\n",
       "      <th>Puzzle</th>\n",
       "      <td>24954</td>\n",
       "      <td>24642</td>\n",
       "      <td>24642</td>\n",
       "      <td>24945</td>\n",
       "      <td>24954</td>\n",
       "      <td>24954</td>\n",
       "      <td>24954</td>\n",
       "      <td>24954</td>\n",
       "      <td>24954</td>\n",
       "      <td>24954</td>\n",
       "      <td>24954</td>\n",
       "    </tr>\n",
       "    <tr>\n",
       "      <th>Food &amp; Drink</th>\n",
       "      <td>24250</td>\n",
       "      <td>24112</td>\n",
       "      <td>24112</td>\n",
       "      <td>24249</td>\n",
       "      <td>24250</td>\n",
       "      <td>24250</td>\n",
       "      <td>24250</td>\n",
       "      <td>24250</td>\n",
       "      <td>24250</td>\n",
       "      <td>24250</td>\n",
       "      <td>24250</td>\n",
       "    </tr>\n",
       "    <tr>\n",
       "      <th>Sports</th>\n",
       "      <td>22094</td>\n",
       "      <td>21951</td>\n",
       "      <td>21951</td>\n",
       "      <td>22092</td>\n",
       "      <td>22094</td>\n",
       "      <td>22094</td>\n",
       "      <td>22094</td>\n",
       "      <td>22094</td>\n",
       "      <td>22094</td>\n",
       "      <td>22094</td>\n",
       "      <td>22094</td>\n",
       "    </tr>\n",
       "    <tr>\n",
       "      <th>News &amp; Magazines</th>\n",
       "      <td>21552</td>\n",
       "      <td>21515</td>\n",
       "      <td>21515</td>\n",
       "      <td>21553</td>\n",
       "      <td>21553</td>\n",
       "      <td>21553</td>\n",
       "      <td>21553</td>\n",
       "      <td>21553</td>\n",
       "      <td>21553</td>\n",
       "      <td>21553</td>\n",
       "      <td>21553</td>\n",
       "    </tr>\n",
       "    <tr>\n",
       "      <th>Shopping</th>\n",
       "      <td>20440</td>\n",
       "      <td>20320</td>\n",
       "      <td>20320</td>\n",
       "      <td>20438</td>\n",
       "      <td>20440</td>\n",
       "      <td>20440</td>\n",
       "      <td>20440</td>\n",
       "      <td>20440</td>\n",
       "      <td>20440</td>\n",
       "      <td>20440</td>\n",
       "      <td>20440</td>\n",
       "    </tr>\n",
       "    <tr>\n",
       "      <th>Casual</th>\n",
       "      <td>20509</td>\n",
       "      <td>19981</td>\n",
       "      <td>19981</td>\n",
       "      <td>20499</td>\n",
       "      <td>20509</td>\n",
       "      <td>20509</td>\n",
       "      <td>20509</td>\n",
       "      <td>20509</td>\n",
       "      <td>20509</td>\n",
       "      <td>20509</td>\n",
       "      <td>20509</td>\n",
       "    </tr>\n",
       "    <tr>\n",
       "      <th>Communication</th>\n",
       "      <td>18391</td>\n",
       "      <td>18235</td>\n",
       "      <td>18235</td>\n",
       "      <td>18390</td>\n",
       "      <td>18391</td>\n",
       "      <td>18391</td>\n",
       "      <td>18391</td>\n",
       "      <td>18391</td>\n",
       "      <td>18391</td>\n",
       "      <td>18391</td>\n",
       "      <td>18391</td>\n",
       "    </tr>\n",
       "    <tr>\n",
       "      <th>Arcade</th>\n",
       "      <td>17715</td>\n",
       "      <td>17376</td>\n",
       "      <td>17376</td>\n",
       "      <td>17702</td>\n",
       "      <td>17715</td>\n",
       "      <td>17715</td>\n",
       "      <td>17715</td>\n",
       "      <td>17715</td>\n",
       "      <td>17715</td>\n",
       "      <td>17715</td>\n",
       "      <td>17715</td>\n",
       "    </tr>\n",
       "    <tr>\n",
       "      <th>Social</th>\n",
       "      <td>16987</td>\n",
       "      <td>16877</td>\n",
       "      <td>16877</td>\n",
       "      <td>16985</td>\n",
       "      <td>16987</td>\n",
       "      <td>16987</td>\n",
       "      <td>16987</td>\n",
       "      <td>16987</td>\n",
       "      <td>16987</td>\n",
       "      <td>16987</td>\n",
       "      <td>16987</td>\n",
       "    </tr>\n",
       "    <tr>\n",
       "      <th>Simulation</th>\n",
       "      <td>15372</td>\n",
       "      <td>15068</td>\n",
       "      <td>15068</td>\n",
       "      <td>15351</td>\n",
       "      <td>15372</td>\n",
       "      <td>15372</td>\n",
       "      <td>15372</td>\n",
       "      <td>15372</td>\n",
       "      <td>15372</td>\n",
       "      <td>15372</td>\n",
       "      <td>15372</td>\n",
       "    </tr>\n",
       "    <tr>\n",
       "      <th>Medical</th>\n",
       "      <td>12554</td>\n",
       "      <td>12468</td>\n",
       "      <td>12468</td>\n",
       "      <td>12554</td>\n",
       "      <td>12554</td>\n",
       "      <td>12554</td>\n",
       "      <td>12554</td>\n",
       "      <td>12554</td>\n",
       "      <td>12554</td>\n",
       "      <td>12554</td>\n",
       "      <td>12554</td>\n",
       "    </tr>\n",
       "    <tr>\n",
       "      <th>Action</th>\n",
       "      <td>12628</td>\n",
       "      <td>12330</td>\n",
       "      <td>12330</td>\n",
       "      <td>12603</td>\n",
       "      <td>12628</td>\n",
       "      <td>12628</td>\n",
       "      <td>12628</td>\n",
       "      <td>12628</td>\n",
       "      <td>12628</td>\n",
       "      <td>12628</td>\n",
       "      <td>12628</td>\n",
       "    </tr>\n",
       "    <tr>\n",
       "      <th>Art &amp; Design</th>\n",
       "      <td>12322</td>\n",
       "      <td>12270</td>\n",
       "      <td>12270</td>\n",
       "      <td>12320</td>\n",
       "      <td>12322</td>\n",
       "      <td>12322</td>\n",
       "      <td>12322</td>\n",
       "      <td>12322</td>\n",
       "      <td>12322</td>\n",
       "      <td>12322</td>\n",
       "      <td>12322</td>\n",
       "    </tr>\n",
       "    <tr>\n",
       "      <th>Educational</th>\n",
       "      <td>11351</td>\n",
       "      <td>11288</td>\n",
       "      <td>11288</td>\n",
       "      <td>11348</td>\n",
       "      <td>11351</td>\n",
       "      <td>11351</td>\n",
       "      <td>11351</td>\n",
       "      <td>11351</td>\n",
       "      <td>11351</td>\n",
       "      <td>11351</td>\n",
       "      <td>11351</td>\n",
       "    </tr>\n",
       "    <tr>\n",
       "      <th>Maps &amp; Navigation</th>\n",
       "      <td>10468</td>\n",
       "      <td>10391</td>\n",
       "      <td>10391</td>\n",
       "      <td>10467</td>\n",
       "      <td>10468</td>\n",
       "      <td>10468</td>\n",
       "      <td>10468</td>\n",
       "      <td>10468</td>\n",
       "      <td>10468</td>\n",
       "      <td>10468</td>\n",
       "      <td>10468</td>\n",
       "    </tr>\n",
       "    <tr>\n",
       "      <th>Adventure</th>\n",
       "      <td>10124</td>\n",
       "      <td>10024</td>\n",
       "      <td>10024</td>\n",
       "      <td>10115</td>\n",
       "      <td>10124</td>\n",
       "      <td>10124</td>\n",
       "      <td>10124</td>\n",
       "      <td>10124</td>\n",
       "      <td>10124</td>\n",
       "      <td>10124</td>\n",
       "      <td>10124</td>\n",
       "    </tr>\n",
       "    <tr>\n",
       "      <th>Video Players &amp; Editors</th>\n",
       "      <td>9095</td>\n",
       "      <td>9038</td>\n",
       "      <td>9038</td>\n",
       "      <td>9095</td>\n",
       "      <td>9095</td>\n",
       "      <td>9095</td>\n",
       "      <td>9095</td>\n",
       "      <td>9095</td>\n",
       "      <td>9095</td>\n",
       "      <td>9095</td>\n",
       "      <td>9095</td>\n",
       "    </tr>\n",
       "    <tr>\n",
       "      <th>Auto &amp; Vehicles</th>\n",
       "      <td>6872</td>\n",
       "      <td>6772</td>\n",
       "      <td>6772</td>\n",
       "      <td>6871</td>\n",
       "      <td>6872</td>\n",
       "      <td>6872</td>\n",
       "      <td>6872</td>\n",
       "      <td>6872</td>\n",
       "      <td>6872</td>\n",
       "      <td>6872</td>\n",
       "      <td>6872</td>\n",
       "    </tr>\n",
       "    <tr>\n",
       "      <th>Beauty</th>\n",
       "      <td>6236</td>\n",
       "      <td>6224</td>\n",
       "      <td>6224</td>\n",
       "      <td>6236</td>\n",
       "      <td>6236</td>\n",
       "      <td>6236</td>\n",
       "      <td>6236</td>\n",
       "      <td>6236</td>\n",
       "      <td>6236</td>\n",
       "      <td>6236</td>\n",
       "      <td>6236</td>\n",
       "    </tr>\n",
       "    <tr>\n",
       "      <th>Racing</th>\n",
       "      <td>6004</td>\n",
       "      <td>5929</td>\n",
       "      <td>5929</td>\n",
       "      <td>6002</td>\n",
       "      <td>6004</td>\n",
       "      <td>6004</td>\n",
       "      <td>6004</td>\n",
       "      <td>6004</td>\n",
       "      <td>6004</td>\n",
       "      <td>6004</td>\n",
       "      <td>6004</td>\n",
       "    </tr>\n",
       "    <tr>\n",
       "      <th>Role Playing</th>\n",
       "      <td>5632</td>\n",
       "      <td>5475</td>\n",
       "      <td>5475</td>\n",
       "      <td>5609</td>\n",
       "      <td>5632</td>\n",
       "      <td>5632</td>\n",
       "      <td>5632</td>\n",
       "      <td>5632</td>\n",
       "      <td>5632</td>\n",
       "      <td>5632</td>\n",
       "      <td>5632</td>\n",
       "    </tr>\n",
       "    <tr>\n",
       "      <th>Trivia</th>\n",
       "      <td>5470</td>\n",
       "      <td>5447</td>\n",
       "      <td>5447</td>\n",
       "      <td>5469</td>\n",
       "      <td>5470</td>\n",
       "      <td>5470</td>\n",
       "      <td>5470</td>\n",
       "      <td>5470</td>\n",
       "      <td>5470</td>\n",
       "      <td>5470</td>\n",
       "      <td>5470</td>\n",
       "    </tr>\n",
       "    <tr>\n",
       "      <th>House &amp; Home</th>\n",
       "      <td>5475</td>\n",
       "      <td>5441</td>\n",
       "      <td>5441</td>\n",
       "      <td>5475</td>\n",
       "      <td>5475</td>\n",
       "      <td>5475</td>\n",
       "      <td>5475</td>\n",
       "      <td>5475</td>\n",
       "      <td>5475</td>\n",
       "      <td>5475</td>\n",
       "      <td>5475</td>\n",
       "    </tr>\n",
       "    <tr>\n",
       "      <th>Board</th>\n",
       "      <td>5261</td>\n",
       "      <td>5211</td>\n",
       "      <td>5211</td>\n",
       "      <td>5258</td>\n",
       "      <td>5261</td>\n",
       "      <td>5261</td>\n",
       "      <td>5261</td>\n",
       "      <td>5261</td>\n",
       "      <td>5261</td>\n",
       "      <td>5261</td>\n",
       "      <td>5261</td>\n",
       "    </tr>\n",
       "    <tr>\n",
       "      <th>Word</th>\n",
       "      <td>4677</td>\n",
       "      <td>4650</td>\n",
       "      <td>4650</td>\n",
       "      <td>4677</td>\n",
       "      <td>4677</td>\n",
       "      <td>4677</td>\n",
       "      <td>4677</td>\n",
       "      <td>4677</td>\n",
       "      <td>4677</td>\n",
       "      <td>4677</td>\n",
       "      <td>4677</td>\n",
       "    </tr>\n",
       "    <tr>\n",
       "      <th>Card</th>\n",
       "      <td>4674</td>\n",
       "      <td>4632</td>\n",
       "      <td>4632</td>\n",
       "      <td>4672</td>\n",
       "      <td>4674</td>\n",
       "      <td>4674</td>\n",
       "      <td>4674</td>\n",
       "      <td>4674</td>\n",
       "      <td>4674</td>\n",
       "      <td>4674</td>\n",
       "      <td>4674</td>\n",
       "    </tr>\n",
       "    <tr>\n",
       "      <th>Strategy</th>\n",
       "      <td>4071</td>\n",
       "      <td>3966</td>\n",
       "      <td>3966</td>\n",
       "      <td>4061</td>\n",
       "      <td>4071</td>\n",
       "      <td>4071</td>\n",
       "      <td>4071</td>\n",
       "      <td>4071</td>\n",
       "      <td>4071</td>\n",
       "      <td>4071</td>\n",
       "      <td>4071</td>\n",
       "    </tr>\n",
       "    <tr>\n",
       "      <th>Events</th>\n",
       "      <td>3788</td>\n",
       "      <td>3750</td>\n",
       "      <td>3750</td>\n",
       "      <td>3788</td>\n",
       "      <td>3788</td>\n",
       "      <td>3788</td>\n",
       "      <td>3788</td>\n",
       "      <td>3788</td>\n",
       "      <td>3788</td>\n",
       "      <td>3788</td>\n",
       "      <td>3788</td>\n",
       "    </tr>\n",
       "    <tr>\n",
       "      <th>Weather</th>\n",
       "      <td>2958</td>\n",
       "      <td>2937</td>\n",
       "      <td>2937</td>\n",
       "      <td>2958</td>\n",
       "      <td>2958</td>\n",
       "      <td>2958</td>\n",
       "      <td>2958</td>\n",
       "      <td>2958</td>\n",
       "      <td>2958</td>\n",
       "      <td>2958</td>\n",
       "      <td>2958</td>\n",
       "    </tr>\n",
       "    <tr>\n",
       "      <th>Dating</th>\n",
       "      <td>2883</td>\n",
       "      <td>2873</td>\n",
       "      <td>2873</td>\n",
       "      <td>2883</td>\n",
       "      <td>2883</td>\n",
       "      <td>2883</td>\n",
       "      <td>2883</td>\n",
       "      <td>2883</td>\n",
       "      <td>2883</td>\n",
       "      <td>2883</td>\n",
       "      <td>2883</td>\n",
       "    </tr>\n",
       "    <tr>\n",
       "      <th>Casino</th>\n",
       "      <td>2648</td>\n",
       "      <td>2635</td>\n",
       "      <td>2635</td>\n",
       "      <td>2648</td>\n",
       "      <td>2648</td>\n",
       "      <td>2648</td>\n",
       "      <td>2648</td>\n",
       "      <td>2648</td>\n",
       "      <td>2648</td>\n",
       "      <td>2648</td>\n",
       "      <td>2648</td>\n",
       "    </tr>\n",
       "    <tr>\n",
       "      <th>Music</th>\n",
       "      <td>2515</td>\n",
       "      <td>2493</td>\n",
       "      <td>2493</td>\n",
       "      <td>2512</td>\n",
       "      <td>2515</td>\n",
       "      <td>2515</td>\n",
       "      <td>2515</td>\n",
       "      <td>2515</td>\n",
       "      <td>2515</td>\n",
       "      <td>2515</td>\n",
       "      <td>2515</td>\n",
       "    </tr>\n",
       "    <tr>\n",
       "      <th>Libraries &amp; Demo</th>\n",
       "      <td>2382</td>\n",
       "      <td>2362</td>\n",
       "      <td>2362</td>\n",
       "      <td>2382</td>\n",
       "      <td>2382</td>\n",
       "      <td>2382</td>\n",
       "      <td>2382</td>\n",
       "      <td>2382</td>\n",
       "      <td>2382</td>\n",
       "      <td>2382</td>\n",
       "      <td>2382</td>\n",
       "    </tr>\n",
       "    <tr>\n",
       "      <th>Comics</th>\n",
       "      <td>2137</td>\n",
       "      <td>2104</td>\n",
       "      <td>2104</td>\n",
       "      <td>2137</td>\n",
       "      <td>2137</td>\n",
       "      <td>2137</td>\n",
       "      <td>2137</td>\n",
       "      <td>2137</td>\n",
       "      <td>2137</td>\n",
       "      <td>2137</td>\n",
       "      <td>2137</td>\n",
       "    </tr>\n",
       "    <tr>\n",
       "      <th>Parenting</th>\n",
       "      <td>1784</td>\n",
       "      <td>1771</td>\n",
       "      <td>1771</td>\n",
       "      <td>1784</td>\n",
       "      <td>1784</td>\n",
       "      <td>1784</td>\n",
       "      <td>1784</td>\n",
       "      <td>1784</td>\n",
       "      <td>1784</td>\n",
       "      <td>1784</td>\n",
       "      <td>1784</td>\n",
       "    </tr>\n",
       "  </tbody>\n",
       "</table>\n",
       "</div>"
      ],
      "text/plain": [
       "                         App Name  Rating  Rating Count  Minimum Installs  \\\n",
       "Category                                                                    \n",
       "Education                  115242  114865        114865            115237   \n",
       "Music & Audio              104541  104441        104441            104540   \n",
       "Entertainment               82079   81896         81896             82078   \n",
       "Books & Reference           78969   78886         78886             78969   \n",
       "Personalization             73538   73418         73418             73537   \n",
       "Tools                       68953   68273         68273             68950   \n",
       "Lifestyle                   54586   54434         54434             54586   \n",
       "Business                    42210   41835         41835             42209   \n",
       "Health & Fitness            31532   31269         31269             31532   \n",
       "Productivity                30450   30087         30087             30448   \n",
       "Photography                 28942   28873         28873             28942   \n",
       "Travel & Local              25971   25775         25775             25970   \n",
       "Finance                     24846   24673         24673             24846   \n",
       "Puzzle                      24954   24642         24642             24945   \n",
       "Food & Drink                24250   24112         24112             24249   \n",
       "Sports                      22094   21951         21951             22092   \n",
       "News & Magazines            21552   21515         21515             21553   \n",
       "Shopping                    20440   20320         20320             20438   \n",
       "Casual                      20509   19981         19981             20499   \n",
       "Communication               18391   18235         18235             18390   \n",
       "Arcade                      17715   17376         17376             17702   \n",
       "Social                      16987   16877         16877             16985   \n",
       "Simulation                  15372   15068         15068             15351   \n",
       "Medical                     12554   12468         12468             12554   \n",
       "Action                      12628   12330         12330             12603   \n",
       "Art & Design                12322   12270         12270             12320   \n",
       "Educational                 11351   11288         11288             11348   \n",
       "Maps & Navigation           10468   10391         10391             10467   \n",
       "Adventure                   10124   10024         10024             10115   \n",
       "Video Players & Editors      9095    9038          9038              9095   \n",
       "Auto & Vehicles              6872    6772          6772              6871   \n",
       "Beauty                       6236    6224          6224              6236   \n",
       "Racing                       6004    5929          5929              6002   \n",
       "Role Playing                 5632    5475          5475              5609   \n",
       "Trivia                       5470    5447          5447              5469   \n",
       "House & Home                 5475    5441          5441              5475   \n",
       "Board                        5261    5211          5211              5258   \n",
       "Word                         4677    4650          4650              4677   \n",
       "Card                         4674    4632          4632              4672   \n",
       "Strategy                     4071    3966          3966              4061   \n",
       "Events                       3788    3750          3750              3788   \n",
       "Weather                      2958    2937          2937              2958   \n",
       "Dating                       2883    2873          2873              2883   \n",
       "Casino                       2648    2635          2635              2648   \n",
       "Music                        2515    2493          2493              2512   \n",
       "Libraries & Demo             2382    2362          2362              2382   \n",
       "Comics                       2137    2104          2104              2137   \n",
       "Parenting                    1784    1771          1771              1784   \n",
       "\n",
       "                         Maximum Installs    Free   Price  Content Rating  \\\n",
       "Category                                                                    \n",
       "Education                          115242  115242  115242          115242   \n",
       "Music & Audio                      104541  104541  104541          104541   \n",
       "Entertainment                       82079   82079   82079           82079   \n",
       "Books & Reference                   78969   78969   78969           78969   \n",
       "Personalization                     73538   73538   73538           73538   \n",
       "Tools                               68953   68953   68953           68953   \n",
       "Lifestyle                           54586   54586   54586           54586   \n",
       "Business                            42210   42210   42210           42210   \n",
       "Health & Fitness                    31532   31532   31532           31532   \n",
       "Productivity                        30450   30450   30450           30450   \n",
       "Photography                         28942   28942   28942           28942   \n",
       "Travel & Local                      25971   25971   25971           25971   \n",
       "Finance                             24846   24846   24846           24846   \n",
       "Puzzle                              24954   24954   24954           24954   \n",
       "Food & Drink                        24250   24250   24250           24250   \n",
       "Sports                              22094   22094   22094           22094   \n",
       "News & Magazines                    21553   21553   21553           21553   \n",
       "Shopping                            20440   20440   20440           20440   \n",
       "Casual                              20509   20509   20509           20509   \n",
       "Communication                       18391   18391   18391           18391   \n",
       "Arcade                              17715   17715   17715           17715   \n",
       "Social                              16987   16987   16987           16987   \n",
       "Simulation                          15372   15372   15372           15372   \n",
       "Medical                             12554   12554   12554           12554   \n",
       "Action                              12628   12628   12628           12628   \n",
       "Art & Design                        12322   12322   12322           12322   \n",
       "Educational                         11351   11351   11351           11351   \n",
       "Maps & Navigation                   10468   10468   10468           10468   \n",
       "Adventure                           10124   10124   10124           10124   \n",
       "Video Players & Editors              9095    9095    9095            9095   \n",
       "Auto & Vehicles                      6872    6872    6872            6872   \n",
       "Beauty                               6236    6236    6236            6236   \n",
       "Racing                               6004    6004    6004            6004   \n",
       "Role Playing                         5632    5632    5632            5632   \n",
       "Trivia                               5470    5470    5470            5470   \n",
       "House & Home                         5475    5475    5475            5475   \n",
       "Board                                5261    5261    5261            5261   \n",
       "Word                                 4677    4677    4677            4677   \n",
       "Card                                 4674    4674    4674            4674   \n",
       "Strategy                             4071    4071    4071            4071   \n",
       "Events                               3788    3788    3788            3788   \n",
       "Weather                              2958    2958    2958            2958   \n",
       "Dating                               2883    2883    2883            2883   \n",
       "Casino                               2648    2648    2648            2648   \n",
       "Music                                2515    2515    2515            2515   \n",
       "Libraries & Demo                     2382    2382    2382            2382   \n",
       "Comics                               2137    2137    2137            2137   \n",
       "Parenting                            1784    1784    1784            1784   \n",
       "\n",
       "                         Ad Supported  In App Purchases  Editors Choice  \n",
       "Category                                                                 \n",
       "Education                      115242            115242          115242  \n",
       "Music & Audio                  104541            104541          104541  \n",
       "Entertainment                   82079             82079           82079  \n",
       "Books & Reference               78969             78969           78969  \n",
       "Personalization                 73538             73538           73538  \n",
       "Tools                           68953             68953           68953  \n",
       "Lifestyle                       54586             54586           54586  \n",
       "Business                        42210             42210           42210  \n",
       "Health & Fitness                31532             31532           31532  \n",
       "Productivity                    30450             30450           30450  \n",
       "Photography                     28942             28942           28942  \n",
       "Travel & Local                  25971             25971           25971  \n",
       "Finance                         24846             24846           24846  \n",
       "Puzzle                          24954             24954           24954  \n",
       "Food & Drink                    24250             24250           24250  \n",
       "Sports                          22094             22094           22094  \n",
       "News & Magazines                21553             21553           21553  \n",
       "Shopping                        20440             20440           20440  \n",
       "Casual                          20509             20509           20509  \n",
       "Communication                   18391             18391           18391  \n",
       "Arcade                          17715             17715           17715  \n",
       "Social                          16987             16987           16987  \n",
       "Simulation                      15372             15372           15372  \n",
       "Medical                         12554             12554           12554  \n",
       "Action                          12628             12628           12628  \n",
       "Art & Design                    12322             12322           12322  \n",
       "Educational                     11351             11351           11351  \n",
       "Maps & Navigation               10468             10468           10468  \n",
       "Adventure                       10124             10124           10124  \n",
       "Video Players & Editors          9095              9095            9095  \n",
       "Auto & Vehicles                  6872              6872            6872  \n",
       "Beauty                           6236              6236            6236  \n",
       "Racing                           6004              6004            6004  \n",
       "Role Playing                     5632              5632            5632  \n",
       "Trivia                           5470              5470            5470  \n",
       "House & Home                     5475              5475            5475  \n",
       "Board                            5261              5261            5261  \n",
       "Word                             4677              4677            4677  \n",
       "Card                             4674              4674            4674  \n",
       "Strategy                         4071              4071            4071  \n",
       "Events                           3788              3788            3788  \n",
       "Weather                          2958              2958            2958  \n",
       "Dating                           2883              2883            2883  \n",
       "Casino                           2648              2648            2648  \n",
       "Music                            2515              2515            2515  \n",
       "Libraries & Demo                 2382              2382            2382  \n",
       "Comics                           2137              2137            2137  \n",
       "Parenting                        1784              1784            1784  "
      ]
     },
     "execution_count": 7,
     "metadata": {},
     "output_type": "execute_result"
    }
   ],
   "source": [
    "counts = df.groupby(\"Category\").agg(\"count\").sort_values(by=\"Rating\", ascending=False)\n",
    "counts"
   ]
  },
  {
   "cell_type": "code",
   "execution_count": 8,
   "metadata": {
    "ExecuteTime": {
     "end_time": "2020-12-17T18:37:36.999962Z",
     "start_time": "2020-12-17T18:37:36.991311Z"
    },
    "scrolled": true
   },
   "outputs": [
    {
     "data": {
      "text/plain": [
       "['Education',\n",
       " 'Music & Audio',\n",
       " 'Entertainment',\n",
       " 'Books & Reference',\n",
       " 'Personalization',\n",
       " 'Tools',\n",
       " 'Lifestyle',\n",
       " 'Business',\n",
       " 'Health & Fitness',\n",
       " 'Productivity',\n",
       " 'Photography',\n",
       " 'Travel & Local',\n",
       " 'Finance',\n",
       " 'Puzzle',\n",
       " 'Food & Drink',\n",
       " 'Sports',\n",
       " 'News & Magazines',\n",
       " 'Shopping',\n",
       " 'Casual',\n",
       " 'Communication',\n",
       " 'Arcade',\n",
       " 'Social',\n",
       " 'Simulation',\n",
       " 'Medical',\n",
       " 'Action',\n",
       " 'Art & Design',\n",
       " 'Educational',\n",
       " 'Maps & Navigation',\n",
       " 'Adventure',\n",
       " 'Video Players & Editors',\n",
       " 'Auto & Vehicles',\n",
       " 'Beauty',\n",
       " 'Racing',\n",
       " 'Role Playing',\n",
       " 'Trivia',\n",
       " 'House & Home',\n",
       " 'Board',\n",
       " 'Word',\n",
       " 'Card',\n",
       " 'Strategy',\n",
       " 'Events',\n",
       " 'Weather',\n",
       " 'Dating',\n",
       " 'Casino',\n",
       " 'Music',\n",
       " 'Libraries & Demo',\n",
       " 'Comics',\n",
       " 'Parenting']"
      ]
     },
     "execution_count": 8,
     "metadata": {},
     "output_type": "execute_result"
    }
   ],
   "source": [
    "x1 = counts.index.tolist()\n",
    "x1"
   ]
  },
  {
   "cell_type": "code",
   "execution_count": 9,
   "metadata": {
    "ExecuteTime": {
     "end_time": "2020-12-17T18:37:37.015974Z",
     "start_time": "2020-12-17T18:37:37.004102Z"
    },
    "scrolled": true
   },
   "outputs": [
    {
     "data": {
      "text/plain": [
       "[115242,\n",
       " 104541,\n",
       " 82079,\n",
       " 78969,\n",
       " 73538,\n",
       " 68953,\n",
       " 54586,\n",
       " 42210,\n",
       " 31532,\n",
       " 30450,\n",
       " 28942,\n",
       " 25971,\n",
       " 24846,\n",
       " 24954,\n",
       " 24250,\n",
       " 22094,\n",
       " 21552,\n",
       " 20440,\n",
       " 20509,\n",
       " 18391,\n",
       " 17715,\n",
       " 16987,\n",
       " 15372,\n",
       " 12554,\n",
       " 12628,\n",
       " 12322,\n",
       " 11351,\n",
       " 10468,\n",
       " 10124,\n",
       " 9095,\n",
       " 6872,\n",
       " 6236,\n",
       " 6004,\n",
       " 5632,\n",
       " 5470,\n",
       " 5475,\n",
       " 5261,\n",
       " 4677,\n",
       " 4674,\n",
       " 4071,\n",
       " 3788,\n",
       " 2958,\n",
       " 2883,\n",
       " 2648,\n",
       " 2515,\n",
       " 2382,\n",
       " 2137,\n",
       " 1784]"
      ]
     },
     "execution_count": 9,
     "metadata": {},
     "output_type": "execute_result"
    }
   ],
   "source": [
    "y1 = counts[\"App Name\"].tolist()\n",
    "y1"
   ]
  },
  {
   "cell_type": "code",
   "execution_count": 10,
   "metadata": {
    "ExecuteTime": {
     "end_time": "2020-12-17T18:37:38.309734Z",
     "start_time": "2020-12-17T18:37:37.018977Z"
    },
    "scrolled": false
   },
   "outputs": [
    {
     "data": {
      "text/plain": [
       "Text(0.5, 1.0, \"App's per Category\")"
      ]
     },
     "execution_count": 10,
     "metadata": {},
     "output_type": "execute_result"
    },
    {
     "data": {
      "image/png": "[encoded data removed]",
      "text/plain": [
       "<Figure size 1080x720 with 1 Axes>"
      ]
     },
     "metadata": {
      "needs_background": "light"
     },
     "output_type": "display_data"
    }
   ],
   "source": [
    "fig, ax = plt.subplots(figsize=(15,10))\n",
    "\n",
    "plt.bar(x=x1, height=y1, color=\"r\")\n",
    "plt.xticks(rotation='vertical', fontsize=16)\n",
    "plt.tight_layout()\n",
    "plt.xlabel(\"App Categories\", fontsize = 20)\n",
    "plt.ylabel(\"Number of Apps\", fontsize = 20)\n",
    "plt.title(\"App's per Category\", fontsize = 25)"
   ]
  },
  {
   "cell_type": "code",
   "execution_count": 11,
   "metadata": {
    "ExecuteTime": {
     "end_time": "2020-12-17T18:37:38.655200Z",
     "start_time": "2020-12-17T18:37:38.311579Z"
    }
   },
   "outputs": [
    {
     "data": {
      "text/html": [
       "<div>\n",
       "<style scoped>\n",
       "    .dataframe tbody tr th:only-of-type {\n",
       "        vertical-align: middle;\n",
       "    }\n",
       "\n",
       "    .dataframe tbody tr th {\n",
       "        vertical-align: top;\n",
       "    }\n",
       "\n",
       "    .dataframe thead th {\n",
       "        text-align: right;\n",
       "    }\n",
       "</style>\n",
       "<table border=\"1\" class=\"dataframe\">\n",
       "  <thead>\n",
       "    <tr style=\"text-align: right;\">\n",
       "      <th></th>\n",
       "      <th>App Name</th>\n",
       "      <th>Category</th>\n",
       "      <th>Rating</th>\n",
       "      <th>Rating Count</th>\n",
       "      <th>Minimum Installs</th>\n",
       "      <th>Maximum Installs</th>\n",
       "      <th>Price</th>\n",
       "      <th>Content Rating</th>\n",
       "      <th>Ad Supported</th>\n",
       "      <th>In App Purchases</th>\n",
       "      <th>Editors Choice</th>\n",
       "    </tr>\n",
       "    <tr>\n",
       "      <th>Free</th>\n",
       "      <th></th>\n",
       "      <th></th>\n",
       "      <th></th>\n",
       "      <th></th>\n",
       "      <th></th>\n",
       "      <th></th>\n",
       "      <th></th>\n",
       "      <th></th>\n",
       "      <th></th>\n",
       "      <th></th>\n",
       "      <th></th>\n",
       "    </tr>\n",
       "  </thead>\n",
       "  <tbody>\n",
       "    <tr>\n",
       "      <th>False</th>\n",
       "      <td>46803</td>\n",
       "      <td>46803</td>\n",
       "      <td>46506</td>\n",
       "      <td>46506</td>\n",
       "      <td>46642</td>\n",
       "      <td>46803</td>\n",
       "      <td>46803</td>\n",
       "      <td>46803</td>\n",
       "      <td>46803</td>\n",
       "      <td>46803</td>\n",
       "      <td>46803</td>\n",
       "    </tr>\n",
       "    <tr>\n",
       "      <th>True</th>\n",
       "      <td>1071332</td>\n",
       "      <td>1071330</td>\n",
       "      <td>1064780</td>\n",
       "      <td>1064780</td>\n",
       "      <td>1071333</td>\n",
       "      <td>1071333</td>\n",
       "      <td>1071333</td>\n",
       "      <td>1071333</td>\n",
       "      <td>1071333</td>\n",
       "      <td>1071333</td>\n",
       "      <td>1071333</td>\n",
       "    </tr>\n",
       "  </tbody>\n",
       "</table>\n",
       "</div>"
      ],
      "text/plain": [
       "       App Name  Category   Rating  Rating Count  Minimum Installs  \\\n",
       "Free                                                                 \n",
       "False     46803     46803    46506         46506             46642   \n",
       "True    1071332   1071330  1064780       1064780           1071333   \n",
       "\n",
       "       Maximum Installs    Price  Content Rating  Ad Supported  \\\n",
       "Free                                                             \n",
       "False             46803    46803           46803         46803   \n",
       "True            1071333  1071333         1071333       1071333   \n",
       "\n",
       "       In App Purchases  Editors Choice  \n",
       "Free                                     \n",
       "False             46803           46803  \n",
       "True            1071333         1071333  "
      ]
     },
     "execution_count": 11,
     "metadata": {},
     "output_type": "execute_result"
    }
   ],
   "source": [
    "free_counts = df.groupby(\"Free\").count()\n",
    "free_counts"
   ]
  },
  {
   "cell_type": "code",
   "execution_count": 12,
   "metadata": {
    "ExecuteTime": {
     "end_time": "2020-12-17T18:37:38.666133Z",
     "start_time": "2020-12-17T18:37:38.657661Z"
    }
   },
   "outputs": [
    {
     "data": {
      "text/plain": [
       "[46803, 1071330]"
      ]
     },
     "execution_count": 12,
     "metadata": {},
     "output_type": "execute_result"
    }
   ],
   "source": [
    "y2 = free_counts.Category.tolist()\n",
    "y2"
   ]
  },
  {
   "cell_type": "code",
   "execution_count": 13,
   "metadata": {
    "ExecuteTime": {
     "end_time": "2020-12-17T18:37:38.916488Z",
     "start_time": "2020-12-17T18:37:38.669263Z"
    }
   },
   "outputs": [
    {
     "data": {
      "text/plain": [
       "Text(0.5, 1.0, 'Paid vs Free Apps')"
      ]
     },
     "execution_count": 13,
     "metadata": {},
     "output_type": "execute_result"
    },
    {
     "data": {
      "image/png": "[encoded data removed]",
      "text/plain": [
       "<Figure size 1080x720 with 1 Axes>"
      ]
     },
     "metadata": {
      "needs_background": "light"
     },
     "output_type": "display_data"
    }
   ],
   "source": [
    "fig, ax = plt.subplots(figsize=(15,10))\n",
    "\n",
    "plt.bar(x=[\"Paid\", \"Free\"], height=y2, color=\"r\")\n",
    "plt.xticks(fontsize=16)\n",
    "\n",
    "ticks=np.arange(0,1080000, 100000)\n",
    "plt.yticks(ticks)\n",
    "#ax.set_yscale(\"log\")\n",
    "\n",
    "#plt.yscale(\"log\")\n",
    "plt.tight_layout()\n",
    "plt.xlabel(\"App Categories\", fontsize = 20)\n",
    "plt.ylabel(\"Number of Apps (per million)\", fontsize = 20)\n",
    "plt.title(\"Paid vs Free Apps\", fontsize = 25)\n"
   ]
  },
  {
   "cell_type": "code",
   "execution_count": 14,
   "metadata": {
    "ExecuteTime": {
     "end_time": "2020-12-17T18:37:39.056866Z",
     "start_time": "2020-12-17T18:37:38.919278Z"
    },
    "scrolled": true
   },
   "outputs": [
    {
     "data": {
      "text/plain": [
       "Category\n",
       "Tools                      97652741135\n",
       "Communication              61085503547\n",
       "Productivity               39813852653\n",
       "Photography                27440111403\n",
       "Social                     27299323614\n",
       "Action                     25795016221\n",
       "Casual                     25579038912\n",
       "Video Players & Editors    25539143640\n",
       "Music & Audio              24008685695\n",
       "Entertainment              23053135152\n",
       "Arcade                     21185508559\n",
       "Travel & Local             16287421675\n",
       "Simulation                 16205041384\n",
       "Puzzle                     15602675247\n",
       "Racing                     14668197664\n",
       "Personalization            13196821484\n",
       "Sports                     12197856405\n",
       "Shopping                    9054502555\n",
       "Books & Reference           9024388253\n",
       "Education                   8349829179\n",
       "Lifestyle                   8052481438\n",
       "News & Magazines            7694528276\n",
       "Adventure                   7488165230\n",
       "Finance                     7421746675\n",
       "Strategy                    6765011178\n",
       "Role Playing                6731839682\n",
       "Health & Fitness            6612491485\n",
       "Business                    6512651594\n",
       "Educational                 6388939071\n",
       "Board                       4191561215\n",
       "Maps & Navigation           3778610559\n",
       "Word                        2838786446\n",
       "Card                        2708114397\n",
       "Music                       2631706616\n",
       "Weather                     2568248787\n",
       "Food & Drink                2125426840\n",
       "Auto & Vehicles             1968785825\n",
       "Casino                      1950867225\n",
       "Trivia                      1735492353\n",
       "Art & Design                1429256883\n",
       "Medical                      734630491\n",
       "Dating                       731175053\n",
       "House & Home                 668716441\n",
       "Comics                       590064837\n",
       "Beauty                       521231242\n",
       "Libraries & Demo             440147575\n",
       "Parenting                    361449990\n",
       "Events                        91758829\n",
       "Name: Maximum Installs, dtype: int64"
      ]
     },
     "execution_count": 14,
     "metadata": {},
     "output_type": "execute_result"
    }
   ],
   "source": [
    "cat_installs = df.groupby(\"Category\")[\"Maximum Installs\"].agg(\"sum\").sort_values(ascending=False)\n",
    "cat_installs"
   ]
  },
  {
   "cell_type": "code",
   "execution_count": 15,
   "metadata": {
    "ExecuteTime": {
     "end_time": "2020-12-17T18:37:39.068367Z",
     "start_time": "2020-12-17T18:37:39.059306Z"
    },
    "scrolled": true
   },
   "outputs": [
    {
     "data": {
      "text/plain": [
       "['Tools',\n",
       " 'Communication',\n",
       " 'Productivity',\n",
       " 'Photography',\n",
       " 'Social',\n",
       " 'Action',\n",
       " 'Casual',\n",
       " 'Video Players & Editors',\n",
       " 'Music & Audio',\n",
       " 'Entertainment',\n",
       " 'Arcade',\n",
       " 'Travel & Local',\n",
       " 'Simulation',\n",
       " 'Puzzle',\n",
       " 'Racing',\n",
       " 'Personalization',\n",
       " 'Sports',\n",
       " 'Shopping',\n",
       " 'Books & Reference',\n",
       " 'Education',\n",
       " 'Lifestyle',\n",
       " 'News & Magazines',\n",
       " 'Adventure',\n",
       " 'Finance',\n",
       " 'Strategy',\n",
       " 'Role Playing',\n",
       " 'Health & Fitness',\n",
       " 'Business',\n",
       " 'Educational',\n",
       " 'Board',\n",
       " 'Maps & Navigation',\n",
       " 'Word',\n",
       " 'Card',\n",
       " 'Music',\n",
       " 'Weather',\n",
       " 'Food & Drink',\n",
       " 'Auto & Vehicles',\n",
       " 'Casino',\n",
       " 'Trivia',\n",
       " 'Art & Design',\n",
       " 'Medical',\n",
       " 'Dating',\n",
       " 'House & Home',\n",
       " 'Comics',\n",
       " 'Beauty',\n",
       " 'Libraries & Demo',\n",
       " 'Parenting',\n",
       " 'Events']"
      ]
     },
     "execution_count": 15,
     "metadata": {},
     "output_type": "execute_result"
    }
   ],
   "source": [
    "x3 = cat_installs.index.tolist()\n",
    "x3"
   ]
  },
  {
   "cell_type": "code",
   "execution_count": 16,
   "metadata": {
    "ExecuteTime": {
     "end_time": "2020-12-17T18:37:39.098233Z",
     "start_time": "2020-12-17T18:37:39.071460Z"
    },
    "scrolled": true
   },
   "outputs": [
    {
     "data": {
      "text/plain": [
       "[97652741135,\n",
       " 61085503547,\n",
       " 39813852653,\n",
       " 27440111403,\n",
       " 27299323614,\n",
       " 25795016221,\n",
       " 25579038912,\n",
       " 25539143640,\n",
       " 24008685695,\n",
       " 23053135152,\n",
       " 21185508559,\n",
       " 16287421675,\n",
       " 16205041384,\n",
       " 15602675247,\n",
       " 14668197664,\n",
       " 13196821484,\n",
       " 12197856405,\n",
       " 9054502555,\n",
       " 9024388253,\n",
       " 8349829179,\n",
       " 8052481438,\n",
       " 7694528276,\n",
       " 7488165230,\n",
       " 7421746675,\n",
       " 6765011178,\n",
       " 6731839682,\n",
       " 6612491485,\n",
       " 6512651594,\n",
       " 6388939071,\n",
       " 4191561215,\n",
       " 3778610559,\n",
       " 2838786446,\n",
       " 2708114397,\n",
       " 2631706616,\n",
       " 2568248787,\n",
       " 2125426840,\n",
       " 1968785825,\n",
       " 1950867225,\n",
       " 1735492353,\n",
       " 1429256883,\n",
       " 734630491,\n",
       " 731175053,\n",
       " 668716441,\n",
       " 590064837,\n",
       " 521231242,\n",
       " 440147575,\n",
       " 361449990,\n",
       " 91758829]"
      ]
     },
     "execution_count": 16,
     "metadata": {},
     "output_type": "execute_result"
    }
   ],
   "source": [
    "y3 = [cat_installs[x] for x in range(len(cat_installs))]\n",
    "y3"
   ]
  },
  {
   "cell_type": "code",
   "execution_count": 17,
   "metadata": {
    "ExecuteTime": {
     "end_time": "2020-12-17T18:37:41.062982Z",
     "start_time": "2020-12-17T18:37:39.115688Z"
    },
    "scrolled": false
   },
   "outputs": [
    {
     "data": {
      "text/plain": [
       "Text(0.5, 1.0, 'Number of Installs per App')"
      ]
     },
     "execution_count": 17,
     "metadata": {},
     "output_type": "execute_result"
    },
    {
     "data": {
      "image/png": "[encoded data removed]",
      "text/plain": [
       "<Figure size 1080x720 with 1 Axes>"
      ]
     },
     "metadata": {
      "needs_background": "light"
     },
     "output_type": "display_data"
    }
   ],
   "source": [
    "fig, ax = plt.subplots(figsize=(15,10))\n",
    "\n",
    "plt.bar(x=x3, height=y3, color=\"r\")\n",
    "plt.xticks(fontsize=16, rotation=\"vertical\")\n",
    "\n",
    "\n",
    "ax.set_yscale(\"log\")\n",
    "\n",
    "plt.tight_layout()\n",
    "plt.xlabel(\"App Categories\", fontsize = 20)\n",
    "plt.ylabel(\"Number of Apps\", fontsize = 20)\n",
    "plt.title(\"Number of Installs per App\", fontsize = 25)"
   ]
  },
  {
   "cell_type": "code",
   "execution_count": 18,
   "metadata": {
    "ExecuteTime": {
     "end_time": "2020-12-17T18:37:41.204409Z",
     "start_time": "2020-12-17T18:37:41.065315Z"
    }
   },
   "outputs": [],
   "source": [
    "cat_ratings = df.groupby(\"Category\")[\"Rating\"].mean()\n",
    "\n",
    "x4 = cat_ratings.index.tolist()\n",
    "y4 = [cat_ratings[w] for w in range(len(cat_ratings))]"
   ]
  },
  {
   "cell_type": "code",
   "execution_count": 19,
   "metadata": {
    "ExecuteTime": {
     "end_time": "2020-12-17T18:37:41.228537Z",
     "start_time": "2020-12-17T18:37:41.218932Z"
    },
    "scrolled": true
   },
   "outputs": [
    {
     "data": {
      "text/plain": [
       "[('Events', 1.2855733333333323),\n",
       " ('Food & Drink', 1.4836803251493107),\n",
       " ('House & Home', 1.5486307664032317),\n",
       " ('Business', 1.6998996055934135),\n",
       " ('Beauty', 1.700353470437017),\n",
       " ('Art & Design', 1.932257538712302),\n",
       " ('Shopping', 2.0376722440945017),\n",
       " ('Health & Fitness', 2.0873740765614577),\n",
       " ('Medical', 2.1824510747513615),\n",
       " ('Travel & Local', 2.1945101842871124),\n",
       " ('Auto & Vehicles', 2.275073833431777),\n",
       " ('Music & Audio', 2.2861366704646144),\n",
       " ('Productivity', 2.3271279954797883),\n",
       " ('Lifestyle', 2.3688172833155603),\n",
       " ('Entertainment', 2.445318452671639),\n",
       " ('Education', 2.4640804422582625),\n",
       " ('Photography', 2.477636546254302),\n",
       " ('Communication', 2.4815135727995727),\n",
       " ('Libraries & Demo', 2.5093141405588475),\n",
       " ('Maps & Navigation', 2.5422480993167187),\n",
       " ('Social', 2.5873733483439176),\n",
       " ('Books & Reference', 2.598828689501281),\n",
       " ('News & Magazines', 2.6307692307692427),\n",
       " ('Sports', 2.6678693453601303),\n",
       " ('Music', 2.6746891295627777),\n",
       " ('Tools', 2.690401769367084),\n",
       " ('Finance', 2.6961861143760344),\n",
       " ('Dating', 2.7363035154890363),\n",
       " ('Trivia', 2.757646410868366),\n",
       " ('Arcade', 2.7666321362799455),\n",
       " ('Educational', 2.7816176470588254),\n",
       " ('Personalization', 2.7830177885532446),\n",
       " ('Parenting', 2.8599661208356864),\n",
       " ('Video Players & Editors', 2.901925204691305),\n",
       " ('Casual', 2.912236624793574),\n",
       " ('Puzzle', 2.9607458810161593),\n",
       " ('Comics', 2.988450570342206),\n",
       " ('Adventure', 3.115951715881905),\n",
       " ('Board', 3.152638649011704),\n",
       " ('Action', 3.199302514193022),\n",
       " ('Word', 3.2272473118279494),\n",
       " ('Racing', 3.2502614268848107),\n",
       " ('Strategy', 3.3557488653555168),\n",
       " ('Simulation', 3.378424475710122),\n",
       " ('Weather', 3.3986380660537994),\n",
       " ('Card', 3.4209844559585614),\n",
       " ('Casino', 3.5248576850094953),\n",
       " ('Role Playing', 3.685789954337909)]"
      ]
     },
     "execution_count": 19,
     "metadata": {},
     "output_type": "execute_result"
    }
   ],
   "source": [
    "to_plot = list(zip(x4,y4))\n",
    "to_plot.sort(key = lambda x: x[1])\n",
    "to_plot"
   ]
  },
  {
   "cell_type": "code",
   "execution_count": 20,
   "metadata": {
    "ExecuteTime": {
     "end_time": "2020-12-17T18:37:42.344717Z",
     "start_time": "2020-12-17T18:37:41.232177Z"
    },
    "scrolled": false
   },
   "outputs": [
    {
     "data": {
      "image/png": "[encoded data removed]",
      "text/plain": [
       "<Figure size 1080x720 with 1 Axes>"
      ]
     },
     "metadata": {
      "needs_background": "light"
     },
     "output_type": "display_data"
    }
   ],
   "source": [
    "fig, ax = plt.subplots(figsize=(15,10))\n",
    "\n",
    "plt.bar(x=[to_plot[x][0] for x in range(len(to_plot))], height=[to_plot[x][1] for x in range(len(to_plot))], color=\"r\")\n",
    "plt.xticks(fontsize=16, rotation=\"vertical\")\n",
    "\n",
    "\n",
    "plt.xlabel(\"App Categories\", fontsize = 20)\n",
    "plt.ylabel(\"Rating (0-5 scale)\", fontsize = 20)\n",
    "plt.title(\"Average Category Rating\", fontsize = 25)\n",
    "plt.tight_layout()\n",
    "\n"
   ]
  },
  {
   "cell_type": "code",
   "execution_count": 21,
   "metadata": {
    "ExecuteTime": {
     "end_time": "2020-12-17T18:37:42.749083Z",
     "start_time": "2020-12-17T18:37:42.432979Z"
    }
   },
   "outputs": [],
   "source": [
    "app_age = df.groupby(\"Content Rating\").count()"
   ]
  },
  {
   "cell_type": "code",
   "execution_count": 22,
   "metadata": {
    "ExecuteTime": {
     "end_time": "2020-12-17T18:37:42.763342Z",
     "start_time": "2020-12-17T18:37:42.751370Z"
    }
   },
   "outputs": [
    {
     "data": {
      "text/plain": [
       "['Adults only 18+',\n",
       " 'Everyone',\n",
       " 'Everyone 10+',\n",
       " 'Mature 17+',\n",
       " 'Teen',\n",
       " 'Unrated']"
      ]
     },
     "execution_count": 22,
     "metadata": {},
     "output_type": "execute_result"
    }
   ],
   "source": [
    "x5 = app_age.index.tolist()\n",
    "x5"
   ]
  },
  {
   "cell_type": "code",
   "execution_count": 23,
   "metadata": {
    "ExecuteTime": {
     "end_time": "2020-12-17T18:37:42.778967Z",
     "start_time": "2020-12-17T18:37:42.767687Z"
    }
   },
   "outputs": [
    {
     "data": {
      "text/plain": [
       "[54, 968245, 18030, 31965, 99775, 66]"
      ]
     },
     "execution_count": 23,
     "metadata": {},
     "output_type": "execute_result"
    }
   ],
   "source": [
    "y5 = app_age[\"App Name\"].tolist()\n",
    "y5"
   ]
  },
  {
   "cell_type": "code",
   "execution_count": 24,
   "metadata": {
    "ExecuteTime": {
     "end_time": "2020-12-17T18:37:42.793244Z",
     "start_time": "2020-12-17T18:37:42.785428Z"
    }
   },
   "outputs": [],
   "source": [
    "to_ploty = list(zip(x5,y5))"
   ]
  },
  {
   "cell_type": "code",
   "execution_count": 25,
   "metadata": {
    "ExecuteTime": {
     "end_time": "2020-12-17T18:37:42.814220Z",
     "start_time": "2020-12-17T18:37:42.796934Z"
    }
   },
   "outputs": [
    {
     "data": {
      "text/plain": [
       "[('Everyone', 968245),\n",
       " ('Teen', 99775),\n",
       " ('Mature 17+', 31965),\n",
       " ('Everyone 10+', 18030),\n",
       " ('Unrated', 66),\n",
       " ('Adults only 18+', 54)]"
      ]
     },
     "execution_count": 25,
     "metadata": {},
     "output_type": "execute_result"
    }
   ],
   "source": [
    "to_ploty.sort(key = lambda x: x[1], reverse=True)\n",
    "to_ploty"
   ]
  },
  {
   "cell_type": "code",
   "execution_count": 26,
   "metadata": {
    "ExecuteTime": {
     "end_time": "2020-12-17T18:37:43.584905Z",
     "start_time": "2020-12-17T18:37:42.820215Z"
    }
   },
   "outputs": [
    {
     "data": {
      "image/png": "[encoded data removed]",
      "text/plain": [
       "<Figure size 1080x720 with 1 Axes>"
      ]
     },
     "metadata": {
      "needs_background": "light"
     },
     "output_type": "display_data"
    }
   ],
   "source": [
    "fig, ax = plt.subplots(figsize=(15,10))\n",
    "\n",
    "plt.bar(x=[to_ploty[x][0] for x in range(len(to_ploty))], height=[to_ploty[x][1] for x in range(len(to_ploty))], color=\"r\")\n",
    "plt.xticks(fontsize=16, rotation=\"vertical\")\n",
    "\n",
    "\n",
    "plt.xlabel(\"App Age Rating\", fontsize = 20)\n",
    "plt.ylabel(\"Total Apps\", fontsize = 20)\n",
    "plt.yscale(\"log\")\n",
    "plt.title(\"Total Apps per Age Rating\", fontsize = 25)\n",
    "plt.tight_layout()\n"
   ]
  },
  {
   "cell_type": "code",
   "execution_count": 27,
   "metadata": {
    "ExecuteTime": {
     "end_time": "2020-12-17T18:37:43.682781Z",
     "start_time": "2020-12-17T18:37:43.606478Z"
    }
   },
   "outputs": [
    {
     "data": {
      "text/plain": [
       "Content Rating\n",
       "Adults only 18+    2.928302\n",
       "Everyone           2.463535\n",
       "Everyone 10+       3.031674\n",
       "Mature 17+         2.599921\n",
       "Teen               2.617489\n",
       "Unrated            3.346970\n",
       "Name: Rating, dtype: float64"
      ]
     },
     "execution_count": 27,
     "metadata": {},
     "output_type": "execute_result"
    }
   ],
   "source": [
    "new = df.groupby(\"Content Rating\")[\"Rating\"].mean()\n",
    "new"
   ]
  },
  {
   "cell_type": "code",
   "execution_count": 28,
   "metadata": {
    "ExecuteTime": {
     "end_time": "2020-12-17T18:37:43.693210Z",
     "start_time": "2020-12-17T18:37:43.685436Z"
    }
   },
   "outputs": [
    {
     "data": {
      "text/plain": [
       "['Adults only 18+',\n",
       " 'Everyone',\n",
       " 'Everyone 10+',\n",
       " 'Mature 17+',\n",
       " 'Teen',\n",
       " 'Unrated']"
      ]
     },
     "execution_count": 28,
     "metadata": {},
     "output_type": "execute_result"
    }
   ],
   "source": [
    "idx = new.index.tolist()\n",
    "idx"
   ]
  },
  {
   "cell_type": "code",
   "execution_count": 29,
   "metadata": {
    "ExecuteTime": {
     "end_time": "2020-12-17T18:37:43.706996Z",
     "start_time": "2020-12-17T18:37:43.696531Z"
    }
   },
   "outputs": [
    {
     "data": {
      "text/plain": [
       "[2.928301886792452,\n",
       " 2.4635351246555746,\n",
       " 3.0316744368926485,\n",
       " 2.599921339122781,\n",
       " 2.617488617204924,\n",
       " 3.3469696969696967]"
      ]
     },
     "execution_count": 29,
     "metadata": {},
     "output_type": "execute_result"
    }
   ],
   "source": [
    "x8 = new.tolist()\n",
    "x8"
   ]
  },
  {
   "cell_type": "code",
   "execution_count": 30,
   "metadata": {
    "ExecuteTime": {
     "end_time": "2020-12-17T18:37:43.721488Z",
     "start_time": "2020-12-17T18:37:43.710382Z"
    }
   },
   "outputs": [
    {
     "data": {
      "text/plain": [
       "[('Unrated', 3.3469696969696967),\n",
       " ('Everyone 10+', 3.0316744368926485),\n",
       " ('Adults only 18+', 2.928301886792452),\n",
       " ('Teen', 2.617488617204924),\n",
       " ('Mature 17+', 2.599921339122781),\n",
       " ('Everyone', 2.4635351246555746)]"
      ]
     },
     "execution_count": 30,
     "metadata": {},
     "output_type": "execute_result"
    }
   ],
   "source": [
    "this = list(zip(idx, x8))\n",
    "this.sort(key = lambda x: x[1], reverse=True)\n",
    "this"
   ]
  },
  {
   "cell_type": "code",
   "execution_count": 31,
   "metadata": {
    "ExecuteTime": {
     "end_time": "2020-12-17T18:37:44.153550Z",
     "start_time": "2020-12-17T18:37:43.725956Z"
    }
   },
   "outputs": [
    {
     "data": {
      "image/png": "[encoded data removed]",
      "text/plain": [
       "<Figure size 1080x720 with 1 Axes>"
      ]
     },
     "metadata": {
      "needs_background": "light"
     },
     "output_type": "display_data"
    }
   ],
   "source": [
    "fig, ax = plt.subplots(figsize=(15,10))\n",
    "\n",
    "plt.bar(x=[this[x][0] for x in range(len(this))], height=[this[x][1] for x in range(len(this))], color=\"r\")\n",
    "plt.xticks(fontsize=16, rotation=\"vertical\")\n",
    "\n",
    "\n",
    "plt.xlabel(\"App Age Category\", fontsize = 20)\n",
    "plt.ylabel(\"Avg App Rating\", fontsize = 20)\n",
    "\n",
    "plt.title(\"Avg App Rating per Age Category\", fontsize = 25)\n",
    "plt.tight_layout()"
   ]
  },
  {
   "cell_type": "code",
   "execution_count": 32,
   "metadata": {
    "ExecuteTime": {
     "end_time": "2020-12-17T18:37:44.235252Z",
     "start_time": "2020-12-17T18:37:44.185202Z"
    }
   },
   "outputs": [
    {
     "data": {
      "text/plain": [
       "Ad Supported\n",
       "False    2.221540\n",
       "True     2.634685\n",
       "Name: Rating, dtype: float64"
      ]
     },
     "execution_count": 32,
     "metadata": {},
     "output_type": "execute_result"
    }
   ],
   "source": [
    "ads = df.groupby(\"Ad Supported\")[\"Rating\"].mean()\n",
    "ads"
   ]
  },
  {
   "cell_type": "code",
   "execution_count": 33,
   "metadata": {
    "ExecuteTime": {
     "end_time": "2020-12-17T18:37:44.257216Z",
     "start_time": "2020-12-17T18:37:44.244435Z"
    }
   },
   "outputs": [
    {
     "data": {
      "text/plain": [
       "[2.2215395749417666, 2.6346845825090295]"
      ]
     },
     "execution_count": 33,
     "metadata": {},
     "output_type": "execute_result"
    }
   ],
   "source": [
    "x23 = ads.to_list()\n",
    "x23"
   ]
  },
  {
   "cell_type": "code",
   "execution_count": 34,
   "metadata": {
    "ExecuteTime": {
     "end_time": "2020-12-17T18:37:44.623881Z",
     "start_time": "2020-12-17T18:37:44.263019Z"
    }
   },
   "outputs": [
    {
     "data": {
      "image/png": "[encoded data removed]",
      "text/plain": [
       "<Figure size 1080x720 with 1 Axes>"
      ]
     },
     "metadata": {
      "needs_background": "light"
     },
     "output_type": "display_data"
    }
   ],
   "source": [
    "fig, ax = plt.subplots(figsize=(15,10))\n",
    "\n",
    "plt.bar(x=[\"No\", \"Yes\"], height=x23, color=\"r\")\n",
    "plt.xticks(fontsize=16, rotation=\"vertical\")\n",
    "\n",
    "\n",
    "plt.xlabel(\"Ads or Not\", fontsize = 20)\n",
    "plt.ylabel(\"Avg App Rating\", fontsize = 20)\n",
    "\n",
    "plt.title(\"Avg App Rating with Ads or Not\", fontsize = 25)\n",
    "plt.tight_layout()"
   ]
  },
  {
   "cell_type": "code",
   "execution_count": 35,
   "metadata": {
    "ExecuteTime": {
     "end_time": "2020-12-17T18:37:44.677392Z",
     "start_time": "2020-12-17T18:37:44.628404Z"
    }
   },
   "outputs": [
    {
     "data": {
      "text/plain": [
       "In App Purchases\n",
       "False    2.357975\n",
       "True     3.594614\n",
       "Name: Rating, dtype: float64"
      ]
     },
     "execution_count": 35,
     "metadata": {},
     "output_type": "execute_result"
    }
   ],
   "source": [
    "buys = df.groupby(\"In App Purchases\")[\"Rating\"].mean()\n",
    "buys"
   ]
  },
  {
   "cell_type": "code",
   "execution_count": 36,
   "metadata": {
    "ExecuteTime": {
     "end_time": "2020-12-17T18:37:44.695402Z",
     "start_time": "2020-12-17T18:37:44.680867Z"
    }
   },
   "outputs": [
    {
     "data": {
      "text/plain": [
       "[2.3579746116006546, 3.594614226982713]"
      ]
     },
     "execution_count": 36,
     "metadata": {},
     "output_type": "execute_result"
    }
   ],
   "source": [
    "x24 = buys.to_list()\n",
    "x24"
   ]
  },
  {
   "cell_type": "code",
   "execution_count": 37,
   "metadata": {
    "ExecuteTime": {
     "end_time": "2020-12-17T18:37:45.075059Z",
     "start_time": "2020-12-17T18:37:44.699487Z"
    }
   },
   "outputs": [
    {
     "data": {
      "image/png": "[encoded data removed]",
      "text/plain": [
       "<Figure size 1080x720 with 1 Axes>"
      ]
     },
     "metadata": {
      "needs_background": "light"
     },
     "output_type": "display_data"
    }
   ],
   "source": [
    "fig, ax = plt.subplots(figsize=(15,10))\n",
    "\n",
    "plt.bar(x=[\"No\", \"Yes\"], height=x24, color=\"r\")\n",
    "plt.xticks(fontsize=16, rotation=\"vertical\")\n",
    "\n",
    "\n",
    "plt.xlabel(\"In-App Purchases?\", fontsize = 20)\n",
    "plt.ylabel(\"Avg App Rating\", fontsize = 20)\n",
    "\n",
    "plt.title(\"Avg App Rating with Purchases or Not\", fontsize = 25)\n",
    "plt.tight_layout()"
   ]
  },
  {
   "cell_type": "markdown",
   "metadata": {},
   "source": [
    "Assign dataframe to a new one and set-up a Regression Model"
   ]
  },
  {
   "cell_type": "code",
   "execution_count": 38,
   "metadata": {
    "ExecuteTime": {
     "end_time": "2020-12-17T18:37:45.153775Z",
     "start_time": "2020-12-17T18:37:45.081228Z"
    }
   },
   "outputs": [],
   "source": [
    "model = df.copy()"
   ]
  },
  {
   "cell_type": "code",
   "execution_count": 39,
   "metadata": {
    "ExecuteTime": {
     "end_time": "2020-12-17T18:37:47.360156Z",
     "start_time": "2020-12-17T18:37:45.155676Z"
    }
   },
   "outputs": [],
   "source": [
    "model.replace(to_replace=[True, False], value=[1,0], inplace=True)"
   ]
  },
  {
   "cell_type": "code",
   "execution_count": 40,
   "metadata": {
    "ExecuteTime": {
     "end_time": "2020-12-17T18:37:47.373631Z",
     "start_time": "2020-12-17T18:37:47.362361Z"
    }
   },
   "outputs": [],
   "source": [
    "model.Rating.fillna(value=0, inplace=True)"
   ]
  },
  {
   "cell_type": "code",
   "execution_count": 41,
   "metadata": {
    "ExecuteTime": {
     "end_time": "2020-12-17T18:37:47.604857Z",
     "start_time": "2020-12-17T18:37:47.376469Z"
    }
   },
   "outputs": [
    {
     "name": "stdout",
     "output_type": "stream",
     "text": [
      "<class 'pandas.core.frame.DataFrame'>\n",
      "RangeIndex: 1118136 entries, 0 to 1118135\n",
      "Data columns (total 12 columns):\n",
      " #   Column            Non-Null Count    Dtype  \n",
      "---  ------            --------------    -----  \n",
      " 0   App Name          1118135 non-null  object \n",
      " 1   Category          1118133 non-null  object \n",
      " 2   Rating            1118136 non-null  float64\n",
      " 3   Rating Count      1111286 non-null  float64\n",
      " 4   Minimum Installs  1117975 non-null  float64\n",
      " 5   Maximum Installs  1118136 non-null  int64  \n",
      " 6   Free              1118136 non-null  int64  \n",
      " 7   Price             1118136 non-null  float64\n",
      " 8   Content Rating    1118136 non-null  object \n",
      " 9   Ad Supported      1118136 non-null  int64  \n",
      " 10  In App Purchases  1118136 non-null  int64  \n",
      " 11  Editors Choice    1118136 non-null  int64  \n",
      "dtypes: float64(4), int64(5), object(3)\n",
      "memory usage: 102.4+ MB\n"
     ]
    }
   ],
   "source": [
    "model.info()"
   ]
  },
  {
   "cell_type": "code",
   "execution_count": 42,
   "metadata": {
    "ExecuteTime": {
     "end_time": "2020-12-17T18:37:48.044880Z",
     "start_time": "2020-12-17T18:37:47.607467Z"
    }
   },
   "outputs": [],
   "source": [
    "model = pd.get_dummies(data=model, columns=[\"Content Rating\"])"
   ]
  },
  {
   "cell_type": "code",
   "execution_count": 43,
   "metadata": {
    "ExecuteTime": {
     "end_time": "2020-12-17T18:37:48.095752Z",
     "start_time": "2020-12-17T18:37:48.047459Z"
    }
   },
   "outputs": [
    {
     "data": {
      "text/html": [
       "<div>\n",
       "<style scoped>\n",
       "    .dataframe tbody tr th:only-of-type {\n",
       "        vertical-align: middle;\n",
       "    }\n",
       "\n",
       "    .dataframe tbody tr th {\n",
       "        vertical-align: top;\n",
       "    }\n",
       "\n",
       "    .dataframe thead th {\n",
       "        text-align: right;\n",
       "    }\n",
       "</style>\n",
       "<table border=\"1\" class=\"dataframe\">\n",
       "  <thead>\n",
       "    <tr style=\"text-align: right;\">\n",
       "      <th></th>\n",
       "      <th>App Name</th>\n",
       "      <th>Category</th>\n",
       "      <th>Rating</th>\n",
       "      <th>Rating Count</th>\n",
       "      <th>Minimum Installs</th>\n",
       "      <th>Maximum Installs</th>\n",
       "      <th>Free</th>\n",
       "      <th>Price</th>\n",
       "      <th>Ad Supported</th>\n",
       "      <th>In App Purchases</th>\n",
       "      <th>Editors Choice</th>\n",
       "      <th>Content Rating_Adults only 18+</th>\n",
       "      <th>Content Rating_Everyone</th>\n",
       "      <th>Content Rating_Everyone 10+</th>\n",
       "      <th>Content Rating_Mature 17+</th>\n",
       "      <th>Content Rating_Teen</th>\n",
       "      <th>Content Rating_Unrated</th>\n",
       "    </tr>\n",
       "  </thead>\n",
       "  <tbody>\n",
       "    <tr>\n",
       "      <th>0</th>\n",
       "      <td>HTTrack Website Copier</td>\n",
       "      <td>Communication</td>\n",
       "      <td>3.6</td>\n",
       "      <td>2848.0</td>\n",
       "      <td>100000.0</td>\n",
       "      <td>351560</td>\n",
       "      <td>1</td>\n",
       "      <td>0.0</td>\n",
       "      <td>0</td>\n",
       "      <td>0</td>\n",
       "      <td>0</td>\n",
       "      <td>0</td>\n",
       "      <td>1</td>\n",
       "      <td>0</td>\n",
       "      <td>0</td>\n",
       "      <td>0</td>\n",
       "      <td>0</td>\n",
       "    </tr>\n",
       "    <tr>\n",
       "      <th>1</th>\n",
       "      <td>World War 2: Offline Strategy</td>\n",
       "      <td>Strategy</td>\n",
       "      <td>4.3</td>\n",
       "      <td>17297.0</td>\n",
       "      <td>1000000.0</td>\n",
       "      <td>2161778</td>\n",
       "      <td>1</td>\n",
       "      <td>0.0</td>\n",
       "      <td>1</td>\n",
       "      <td>1</td>\n",
       "      <td>0</td>\n",
       "      <td>0</td>\n",
       "      <td>0</td>\n",
       "      <td>1</td>\n",
       "      <td>0</td>\n",
       "      <td>0</td>\n",
       "      <td>0</td>\n",
       "    </tr>\n",
       "    <tr>\n",
       "      <th>2</th>\n",
       "      <td>WPSApp</td>\n",
       "      <td>Tools</td>\n",
       "      <td>4.2</td>\n",
       "      <td>488639.0</td>\n",
       "      <td>50000000.0</td>\n",
       "      <td>79304739</td>\n",
       "      <td>1</td>\n",
       "      <td>0.0</td>\n",
       "      <td>1</td>\n",
       "      <td>0</td>\n",
       "      <td>0</td>\n",
       "      <td>0</td>\n",
       "      <td>1</td>\n",
       "      <td>0</td>\n",
       "      <td>0</td>\n",
       "      <td>0</td>\n",
       "      <td>0</td>\n",
       "    </tr>\n",
       "    <tr>\n",
       "      <th>3</th>\n",
       "      <td>OfficeSuite - Office, PDF, Word, Excel, PowerP...</td>\n",
       "      <td>Business</td>\n",
       "      <td>4.2</td>\n",
       "      <td>1224420.0</td>\n",
       "      <td>100000000.0</td>\n",
       "      <td>163660067</td>\n",
       "      <td>1</td>\n",
       "      <td>0.0</td>\n",
       "      <td>1</td>\n",
       "      <td>1</td>\n",
       "      <td>0</td>\n",
       "      <td>0</td>\n",
       "      <td>1</td>\n",
       "      <td>0</td>\n",
       "      <td>0</td>\n",
       "      <td>0</td>\n",
       "      <td>0</td>\n",
       "    </tr>\n",
       "    <tr>\n",
       "      <th>4</th>\n",
       "      <td>Loud Player Free</td>\n",
       "      <td>Music &amp; Audio</td>\n",
       "      <td>4.2</td>\n",
       "      <td>665.0</td>\n",
       "      <td>50000.0</td>\n",
       "      <td>73463</td>\n",
       "      <td>1</td>\n",
       "      <td>0.0</td>\n",
       "      <td>0</td>\n",
       "      <td>0</td>\n",
       "      <td>0</td>\n",
       "      <td>0</td>\n",
       "      <td>1</td>\n",
       "      <td>0</td>\n",
       "      <td>0</td>\n",
       "      <td>0</td>\n",
       "      <td>0</td>\n",
       "    </tr>\n",
       "    <tr>\n",
       "      <th>...</th>\n",
       "      <td>...</td>\n",
       "      <td>...</td>\n",
       "      <td>...</td>\n",
       "      <td>...</td>\n",
       "      <td>...</td>\n",
       "      <td>...</td>\n",
       "      <td>...</td>\n",
       "      <td>...</td>\n",
       "      <td>...</td>\n",
       "      <td>...</td>\n",
       "      <td>...</td>\n",
       "      <td>...</td>\n",
       "      <td>...</td>\n",
       "      <td>...</td>\n",
       "      <td>...</td>\n",
       "      <td>...</td>\n",
       "      <td>...</td>\n",
       "    </tr>\n",
       "    <tr>\n",
       "      <th>1118131</th>\n",
       "      <td>FleetEnable</td>\n",
       "      <td>Productivity</td>\n",
       "      <td>0.0</td>\n",
       "      <td>NaN</td>\n",
       "      <td>10.0</td>\n",
       "      <td>10</td>\n",
       "      <td>1</td>\n",
       "      <td>0.0</td>\n",
       "      <td>0</td>\n",
       "      <td>0</td>\n",
       "      <td>0</td>\n",
       "      <td>0</td>\n",
       "      <td>1</td>\n",
       "      <td>0</td>\n",
       "      <td>0</td>\n",
       "      <td>0</td>\n",
       "      <td>0</td>\n",
       "    </tr>\n",
       "    <tr>\n",
       "      <th>1118132</th>\n",
       "      <td>AutoThink</td>\n",
       "      <td>Productivity</td>\n",
       "      <td>0.0</td>\n",
       "      <td>0.0</td>\n",
       "      <td>100.0</td>\n",
       "      <td>127</td>\n",
       "      <td>1</td>\n",
       "      <td>0.0</td>\n",
       "      <td>0</td>\n",
       "      <td>0</td>\n",
       "      <td>0</td>\n",
       "      <td>0</td>\n",
       "      <td>1</td>\n",
       "      <td>0</td>\n",
       "      <td>0</td>\n",
       "      <td>0</td>\n",
       "      <td>0</td>\n",
       "    </tr>\n",
       "    <tr>\n",
       "      <th>1118133</th>\n",
       "      <td>FieldEnable</td>\n",
       "      <td>Business</td>\n",
       "      <td>0.0</td>\n",
       "      <td>0.0</td>\n",
       "      <td>100.0</td>\n",
       "      <td>282</td>\n",
       "      <td>1</td>\n",
       "      <td>0.0</td>\n",
       "      <td>0</td>\n",
       "      <td>0</td>\n",
       "      <td>0</td>\n",
       "      <td>0</td>\n",
       "      <td>1</td>\n",
       "      <td>0</td>\n",
       "      <td>0</td>\n",
       "      <td>0</td>\n",
       "      <td>0</td>\n",
       "    </tr>\n",
       "    <tr>\n",
       "      <th>1118134</th>\n",
       "      <td>Live Concert</td>\n",
       "      <td>Events</td>\n",
       "      <td>0.0</td>\n",
       "      <td>0.0</td>\n",
       "      <td>500.0</td>\n",
       "      <td>986</td>\n",
       "      <td>1</td>\n",
       "      <td>0.0</td>\n",
       "      <td>0</td>\n",
       "      <td>0</td>\n",
       "      <td>0</td>\n",
       "      <td>0</td>\n",
       "      <td>1</td>\n",
       "      <td>0</td>\n",
       "      <td>0</td>\n",
       "      <td>0</td>\n",
       "      <td>0</td>\n",
       "    </tr>\n",
       "    <tr>\n",
       "      <th>1118135</th>\n",
       "      <td>Rajput India</td>\n",
       "      <td>Social</td>\n",
       "      <td>4.6</td>\n",
       "      <td>81.0</td>\n",
       "      <td>10000.0</td>\n",
       "      <td>18892</td>\n",
       "      <td>1</td>\n",
       "      <td>0.0</td>\n",
       "      <td>1</td>\n",
       "      <td>0</td>\n",
       "      <td>0</td>\n",
       "      <td>0</td>\n",
       "      <td>0</td>\n",
       "      <td>0</td>\n",
       "      <td>0</td>\n",
       "      <td>1</td>\n",
       "      <td>0</td>\n",
       "    </tr>\n",
       "  </tbody>\n",
       "</table>\n",
       "<p>1118136 rows × 17 columns</p>\n",
       "</div>"
      ],
      "text/plain": [
       "                                                  App Name       Category  \\\n",
       "0                                   HTTrack Website Copier  Communication   \n",
       "1                            World War 2: Offline Strategy       Strategy   \n",
       "2                                                   WPSApp          Tools   \n",
       "3        OfficeSuite - Office, PDF, Word, Excel, PowerP...       Business   \n",
       "4                                         Loud Player Free  Music & Audio   \n",
       "...                                                    ...            ...   \n",
       "1118131                                        FleetEnable   Productivity   \n",
       "1118132                                          AutoThink   Productivity   \n",
       "1118133                                        FieldEnable       Business   \n",
       "1118134                                       Live Concert         Events   \n",
       "1118135                                       Rajput India         Social   \n",
       "\n",
       "         Rating  Rating Count  Minimum Installs  Maximum Installs  Free  \\\n",
       "0           3.6        2848.0          100000.0            351560     1   \n",
       "1           4.3       17297.0         1000000.0           2161778     1   \n",
       "2           4.2      488639.0        50000000.0          79304739     1   \n",
       "3           4.2     1224420.0       100000000.0         163660067     1   \n",
       "4           4.2         665.0           50000.0             73463     1   \n",
       "...         ...           ...               ...               ...   ...   \n",
       "1118131     0.0           NaN              10.0                10     1   \n",
       "1118132     0.0           0.0             100.0               127     1   \n",
       "1118133     0.0           0.0             100.0               282     1   \n",
       "1118134     0.0           0.0             500.0               986     1   \n",
       "1118135     4.6          81.0           10000.0             18892     1   \n",
       "\n",
       "         Price  Ad Supported  In App Purchases  Editors Choice  \\\n",
       "0          0.0             0                 0               0   \n",
       "1          0.0             1                 1               0   \n",
       "2          0.0             1                 0               0   \n",
       "3          0.0             1                 1               0   \n",
       "4          0.0             0                 0               0   \n",
       "...        ...           ...               ...             ...   \n",
       "1118131    0.0             0                 0               0   \n",
       "1118132    0.0             0                 0               0   \n",
       "1118133    0.0             0                 0               0   \n",
       "1118134    0.0             0                 0               0   \n",
       "1118135    0.0             1                 0               0   \n",
       "\n",
       "         Content Rating_Adults only 18+  Content Rating_Everyone  \\\n",
       "0                                     0                        1   \n",
       "1                                     0                        0   \n",
       "2                                     0                        1   \n",
       "3                                     0                        1   \n",
       "4                                     0                        1   \n",
       "...                                 ...                      ...   \n",
       "1118131                               0                        1   \n",
       "1118132                               0                        1   \n",
       "1118133                               0                        1   \n",
       "1118134                               0                        1   \n",
       "1118135                               0                        0   \n",
       "\n",
       "         Content Rating_Everyone 10+  Content Rating_Mature 17+  \\\n",
       "0                                  0                          0   \n",
       "1                                  1                          0   \n",
       "2                                  0                          0   \n",
       "3                                  0                          0   \n",
       "4                                  0                          0   \n",
       "...                              ...                        ...   \n",
       "1118131                            0                          0   \n",
       "1118132                            0                          0   \n",
       "1118133                            0                          0   \n",
       "1118134                            0                          0   \n",
       "1118135                            0                          0   \n",
       "\n",
       "         Content Rating_Teen  Content Rating_Unrated  \n",
       "0                          0                       0  \n",
       "1                          0                       0  \n",
       "2                          0                       0  \n",
       "3                          0                       0  \n",
       "4                          0                       0  \n",
       "...                      ...                     ...  \n",
       "1118131                    0                       0  \n",
       "1118132                    0                       0  \n",
       "1118133                    0                       0  \n",
       "1118134                    0                       0  \n",
       "1118135                    1                       0  \n",
       "\n",
       "[1118136 rows x 17 columns]"
      ]
     },
     "execution_count": 43,
     "metadata": {},
     "output_type": "execute_result"
    }
   ],
   "source": [
    "model"
   ]
  },
  {
   "cell_type": "code",
   "execution_count": 44,
   "metadata": {
    "ExecuteTime": {
     "end_time": "2020-12-17T18:37:48.679995Z",
     "start_time": "2020-12-17T18:37:48.098496Z"
    }
   },
   "outputs": [],
   "source": [
    "model = pd.get_dummies(data=model, columns=[\"Category\"])"
   ]
  },
  {
   "cell_type": "code",
   "execution_count": 45,
   "metadata": {
    "ExecuteTime": {
     "end_time": "2020-12-17T18:37:49.121110Z",
     "start_time": "2020-12-17T18:37:48.681840Z"
    },
    "scrolled": true
   },
   "outputs": [
    {
     "name": "stdout",
     "output_type": "stream",
     "text": [
      "<class 'pandas.core.frame.DataFrame'>\n",
      "RangeIndex: 1118136 entries, 0 to 1118135\n",
      "Data columns (total 64 columns):\n",
      " #   Column                            Non-Null Count    Dtype  \n",
      "---  ------                            --------------    -----  \n",
      " 0   App Name                          1118135 non-null  object \n",
      " 1   Rating                            1118136 non-null  float64\n",
      " 2   Rating Count                      1111286 non-null  float64\n",
      " 3   Minimum Installs                  1117975 non-null  float64\n",
      " 4   Maximum Installs                  1118136 non-null  int64  \n",
      " 5   Free                              1118136 non-null  int64  \n",
      " 6   Price                             1118136 non-null  float64\n",
      " 7   Ad Supported                      1118136 non-null  int64  \n",
      " 8   In App Purchases                  1118136 non-null  int64  \n",
      " 9   Editors Choice                    1118136 non-null  int64  \n",
      " 10  Content Rating_Adults only 18+    1118136 non-null  uint8  \n",
      " 11  Content Rating_Everyone           1118136 non-null  uint8  \n",
      " 12  Content Rating_Everyone 10+       1118136 non-null  uint8  \n",
      " 13  Content Rating_Mature 17+         1118136 non-null  uint8  \n",
      " 14  Content Rating_Teen               1118136 non-null  uint8  \n",
      " 15  Content Rating_Unrated            1118136 non-null  uint8  \n",
      " 16  Category_Action                   1118136 non-null  uint8  \n",
      " 17  Category_Adventure                1118136 non-null  uint8  \n",
      " 18  Category_Arcade                   1118136 non-null  uint8  \n",
      " 19  Category_Art & Design             1118136 non-null  uint8  \n",
      " 20  Category_Auto & Vehicles          1118136 non-null  uint8  \n",
      " 21  Category_Beauty                   1118136 non-null  uint8  \n",
      " 22  Category_Board                    1118136 non-null  uint8  \n",
      " 23  Category_Books & Reference        1118136 non-null  uint8  \n",
      " 24  Category_Business                 1118136 non-null  uint8  \n",
      " 25  Category_Card                     1118136 non-null  uint8  \n",
      " 26  Category_Casino                   1118136 non-null  uint8  \n",
      " 27  Category_Casual                   1118136 non-null  uint8  \n",
      " 28  Category_Comics                   1118136 non-null  uint8  \n",
      " 29  Category_Communication            1118136 non-null  uint8  \n",
      " 30  Category_Dating                   1118136 non-null  uint8  \n",
      " 31  Category_Education                1118136 non-null  uint8  \n",
      " 32  Category_Educational              1118136 non-null  uint8  \n",
      " 33  Category_Entertainment            1118136 non-null  uint8  \n",
      " 34  Category_Events                   1118136 non-null  uint8  \n",
      " 35  Category_Finance                  1118136 non-null  uint8  \n",
      " 36  Category_Food & Drink             1118136 non-null  uint8  \n",
      " 37  Category_Health & Fitness         1118136 non-null  uint8  \n",
      " 38  Category_House & Home             1118136 non-null  uint8  \n",
      " 39  Category_Libraries & Demo         1118136 non-null  uint8  \n",
      " 40  Category_Lifestyle                1118136 non-null  uint8  \n",
      " 41  Category_Maps & Navigation        1118136 non-null  uint8  \n",
      " 42  Category_Medical                  1118136 non-null  uint8  \n",
      " 43  Category_Music                    1118136 non-null  uint8  \n",
      " 44  Category_Music & Audio            1118136 non-null  uint8  \n",
      " 45  Category_News & Magazines         1118136 non-null  uint8  \n",
      " 46  Category_Parenting                1118136 non-null  uint8  \n",
      " 47  Category_Personalization          1118136 non-null  uint8  \n",
      " 48  Category_Photography              1118136 non-null  uint8  \n",
      " 49  Category_Productivity             1118136 non-null  uint8  \n",
      " 50  Category_Puzzle                   1118136 non-null  uint8  \n",
      " 51  Category_Racing                   1118136 non-null  uint8  \n",
      " 52  Category_Role Playing             1118136 non-null  uint8  \n",
      " 53  Category_Shopping                 1118136 non-null  uint8  \n",
      " 54  Category_Simulation               1118136 non-null  uint8  \n",
      " 55  Category_Social                   1118136 non-null  uint8  \n",
      " 56  Category_Sports                   1118136 non-null  uint8  \n",
      " 57  Category_Strategy                 1118136 non-null  uint8  \n",
      " 58  Category_Tools                    1118136 non-null  uint8  \n",
      " 59  Category_Travel & Local           1118136 non-null  uint8  \n",
      " 60  Category_Trivia                   1118136 non-null  uint8  \n",
      " 61  Category_Video Players & Editors  1118136 non-null  uint8  \n",
      " 62  Category_Weather                  1118136 non-null  uint8  \n",
      " 63  Category_Word                     1118136 non-null  uint8  \n",
      "dtypes: float64(4), int64(5), object(1), uint8(54)\n",
      "memory usage: 142.9+ MB\n"
     ]
    }
   ],
   "source": [
    "model.info()"
   ]
  },
  {
   "cell_type": "code",
   "execution_count": 46,
   "metadata": {
    "ExecuteTime": {
     "end_time": "2020-12-17T18:37:49.481740Z",
     "start_time": "2020-12-17T18:37:49.125211Z"
    }
   },
   "outputs": [
    {
     "data": {
      "text/html": [
       "<div>\n",
       "<style scoped>\n",
       "    .dataframe tbody tr th:only-of-type {\n",
       "        vertical-align: middle;\n",
       "    }\n",
       "\n",
       "    .dataframe tbody tr th {\n",
       "        vertical-align: top;\n",
       "    }\n",
       "\n",
       "    .dataframe thead th {\n",
       "        text-align: right;\n",
       "    }\n",
       "</style>\n",
       "<table border=\"1\" class=\"dataframe\">\n",
       "  <thead>\n",
       "    <tr style=\"text-align: right;\">\n",
       "      <th></th>\n",
       "      <th>App Name</th>\n",
       "      <th>Rating</th>\n",
       "      <th>Rating Count</th>\n",
       "      <th>Minimum Installs</th>\n",
       "      <th>Maximum Installs</th>\n",
       "      <th>Free</th>\n",
       "      <th>Price</th>\n",
       "      <th>Ad Supported</th>\n",
       "      <th>In App Purchases</th>\n",
       "      <th>Editors Choice</th>\n",
       "      <th>...</th>\n",
       "      <th>Category_Simulation</th>\n",
       "      <th>Category_Social</th>\n",
       "      <th>Category_Sports</th>\n",
       "      <th>Category_Strategy</th>\n",
       "      <th>Category_Tools</th>\n",
       "      <th>Category_Travel &amp; Local</th>\n",
       "      <th>Category_Trivia</th>\n",
       "      <th>Category_Video Players &amp; Editors</th>\n",
       "      <th>Category_Weather</th>\n",
       "      <th>Category_Word</th>\n",
       "    </tr>\n",
       "  </thead>\n",
       "  <tbody>\n",
       "    <tr>\n",
       "      <th>0</th>\n",
       "      <td>HTTrack Website Copier</td>\n",
       "      <td>3.6</td>\n",
       "      <td>2848.0</td>\n",
       "      <td>100000.0</td>\n",
       "      <td>351560</td>\n",
       "      <td>1</td>\n",
       "      <td>0.0</td>\n",
       "      <td>0</td>\n",
       "      <td>0</td>\n",
       "      <td>0</td>\n",
       "      <td>...</td>\n",
       "      <td>0</td>\n",
       "      <td>0</td>\n",
       "      <td>0</td>\n",
       "      <td>0</td>\n",
       "      <td>0</td>\n",
       "      <td>0</td>\n",
       "      <td>0</td>\n",
       "      <td>0</td>\n",
       "      <td>0</td>\n",
       "      <td>0</td>\n",
       "    </tr>\n",
       "    <tr>\n",
       "      <th>1</th>\n",
       "      <td>World War 2: Offline Strategy</td>\n",
       "      <td>4.3</td>\n",
       "      <td>17297.0</td>\n",
       "      <td>1000000.0</td>\n",
       "      <td>2161778</td>\n",
       "      <td>1</td>\n",
       "      <td>0.0</td>\n",
       "      <td>1</td>\n",
       "      <td>1</td>\n",
       "      <td>0</td>\n",
       "      <td>...</td>\n",
       "      <td>0</td>\n",
       "      <td>0</td>\n",
       "      <td>0</td>\n",
       "      <td>1</td>\n",
       "      <td>0</td>\n",
       "      <td>0</td>\n",
       "      <td>0</td>\n",
       "      <td>0</td>\n",
       "      <td>0</td>\n",
       "      <td>0</td>\n",
       "    </tr>\n",
       "    <tr>\n",
       "      <th>2</th>\n",
       "      <td>WPSApp</td>\n",
       "      <td>4.2</td>\n",
       "      <td>488639.0</td>\n",
       "      <td>50000000.0</td>\n",
       "      <td>79304739</td>\n",
       "      <td>1</td>\n",
       "      <td>0.0</td>\n",
       "      <td>1</td>\n",
       "      <td>0</td>\n",
       "      <td>0</td>\n",
       "      <td>...</td>\n",
       "      <td>0</td>\n",
       "      <td>0</td>\n",
       "      <td>0</td>\n",
       "      <td>0</td>\n",
       "      <td>1</td>\n",
       "      <td>0</td>\n",
       "      <td>0</td>\n",
       "      <td>0</td>\n",
       "      <td>0</td>\n",
       "      <td>0</td>\n",
       "    </tr>\n",
       "    <tr>\n",
       "      <th>3</th>\n",
       "      <td>OfficeSuite - Office, PDF, Word, Excel, PowerP...</td>\n",
       "      <td>4.2</td>\n",
       "      <td>1224420.0</td>\n",
       "      <td>100000000.0</td>\n",
       "      <td>163660067</td>\n",
       "      <td>1</td>\n",
       "      <td>0.0</td>\n",
       "      <td>1</td>\n",
       "      <td>1</td>\n",
       "      <td>0</td>\n",
       "      <td>...</td>\n",
       "      <td>0</td>\n",
       "      <td>0</td>\n",
       "      <td>0</td>\n",
       "      <td>0</td>\n",
       "      <td>0</td>\n",
       "      <td>0</td>\n",
       "      <td>0</td>\n",
       "      <td>0</td>\n",
       "      <td>0</td>\n",
       "      <td>0</td>\n",
       "    </tr>\n",
       "    <tr>\n",
       "      <th>4</th>\n",
       "      <td>Loud Player Free</td>\n",
       "      <td>4.2</td>\n",
       "      <td>665.0</td>\n",
       "      <td>50000.0</td>\n",
       "      <td>73463</td>\n",
       "      <td>1</td>\n",
       "      <td>0.0</td>\n",
       "      <td>0</td>\n",
       "      <td>0</td>\n",
       "      <td>0</td>\n",
       "      <td>...</td>\n",
       "      <td>0</td>\n",
       "      <td>0</td>\n",
       "      <td>0</td>\n",
       "      <td>0</td>\n",
       "      <td>0</td>\n",
       "      <td>0</td>\n",
       "      <td>0</td>\n",
       "      <td>0</td>\n",
       "      <td>0</td>\n",
       "      <td>0</td>\n",
       "    </tr>\n",
       "    <tr>\n",
       "      <th>...</th>\n",
       "      <td>...</td>\n",
       "      <td>...</td>\n",
       "      <td>...</td>\n",
       "      <td>...</td>\n",
       "      <td>...</td>\n",
       "      <td>...</td>\n",
       "      <td>...</td>\n",
       "      <td>...</td>\n",
       "      <td>...</td>\n",
       "      <td>...</td>\n",
       "      <td>...</td>\n",
       "      <td>...</td>\n",
       "      <td>...</td>\n",
       "      <td>...</td>\n",
       "      <td>...</td>\n",
       "      <td>...</td>\n",
       "      <td>...</td>\n",
       "      <td>...</td>\n",
       "      <td>...</td>\n",
       "      <td>...</td>\n",
       "      <td>...</td>\n",
       "    </tr>\n",
       "    <tr>\n",
       "      <th>1118131</th>\n",
       "      <td>FleetEnable</td>\n",
       "      <td>0.0</td>\n",
       "      <td>NaN</td>\n",
       "      <td>10.0</td>\n",
       "      <td>10</td>\n",
       "      <td>1</td>\n",
       "      <td>0.0</td>\n",
       "      <td>0</td>\n",
       "      <td>0</td>\n",
       "      <td>0</td>\n",
       "      <td>...</td>\n",
       "      <td>0</td>\n",
       "      <td>0</td>\n",
       "      <td>0</td>\n",
       "      <td>0</td>\n",
       "      <td>0</td>\n",
       "      <td>0</td>\n",
       "      <td>0</td>\n",
       "      <td>0</td>\n",
       "      <td>0</td>\n",
       "      <td>0</td>\n",
       "    </tr>\n",
       "    <tr>\n",
       "      <th>1118132</th>\n",
       "      <td>AutoThink</td>\n",
       "      <td>0.0</td>\n",
       "      <td>0.0</td>\n",
       "      <td>100.0</td>\n",
       "      <td>127</td>\n",
       "      <td>1</td>\n",
       "      <td>0.0</td>\n",
       "      <td>0</td>\n",
       "      <td>0</td>\n",
       "      <td>0</td>\n",
       "      <td>...</td>\n",
       "      <td>0</td>\n",
       "      <td>0</td>\n",
       "      <td>0</td>\n",
       "      <td>0</td>\n",
       "      <td>0</td>\n",
       "      <td>0</td>\n",
       "      <td>0</td>\n",
       "      <td>0</td>\n",
       "      <td>0</td>\n",
       "      <td>0</td>\n",
       "    </tr>\n",
       "    <tr>\n",
       "      <th>1118133</th>\n",
       "      <td>FieldEnable</td>\n",
       "      <td>0.0</td>\n",
       "      <td>0.0</td>\n",
       "      <td>100.0</td>\n",
       "      <td>282</td>\n",
       "      <td>1</td>\n",
       "      <td>0.0</td>\n",
       "      <td>0</td>\n",
       "      <td>0</td>\n",
       "      <td>0</td>\n",
       "      <td>...</td>\n",
       "      <td>0</td>\n",
       "      <td>0</td>\n",
       "      <td>0</td>\n",
       "      <td>0</td>\n",
       "      <td>0</td>\n",
       "      <td>0</td>\n",
       "      <td>0</td>\n",
       "      <td>0</td>\n",
       "      <td>0</td>\n",
       "      <td>0</td>\n",
       "    </tr>\n",
       "    <tr>\n",
       "      <th>1118134</th>\n",
       "      <td>Live Concert</td>\n",
       "      <td>0.0</td>\n",
       "      <td>0.0</td>\n",
       "      <td>500.0</td>\n",
       "      <td>986</td>\n",
       "      <td>1</td>\n",
       "      <td>0.0</td>\n",
       "      <td>0</td>\n",
       "      <td>0</td>\n",
       "      <td>0</td>\n",
       "      <td>...</td>\n",
       "      <td>0</td>\n",
       "      <td>0</td>\n",
       "      <td>0</td>\n",
       "      <td>0</td>\n",
       "      <td>0</td>\n",
       "      <td>0</td>\n",
       "      <td>0</td>\n",
       "      <td>0</td>\n",
       "      <td>0</td>\n",
       "      <td>0</td>\n",
       "    </tr>\n",
       "    <tr>\n",
       "      <th>1118135</th>\n",
       "      <td>Rajput India</td>\n",
       "      <td>4.6</td>\n",
       "      <td>81.0</td>\n",
       "      <td>10000.0</td>\n",
       "      <td>18892</td>\n",
       "      <td>1</td>\n",
       "      <td>0.0</td>\n",
       "      <td>1</td>\n",
       "      <td>0</td>\n",
       "      <td>0</td>\n",
       "      <td>...</td>\n",
       "      <td>0</td>\n",
       "      <td>1</td>\n",
       "      <td>0</td>\n",
       "      <td>0</td>\n",
       "      <td>0</td>\n",
       "      <td>0</td>\n",
       "      <td>0</td>\n",
       "      <td>0</td>\n",
       "      <td>0</td>\n",
       "      <td>0</td>\n",
       "    </tr>\n",
       "  </tbody>\n",
       "</table>\n",
       "<p>1118136 rows × 64 columns</p>\n",
       "</div>"
      ],
      "text/plain": [
       "                                                  App Name  Rating  \\\n",
       "0                                   HTTrack Website Copier     3.6   \n",
       "1                            World War 2: Offline Strategy     4.3   \n",
       "2                                                   WPSApp     4.2   \n",
       "3        OfficeSuite - Office, PDF, Word, Excel, PowerP...     4.2   \n",
       "4                                         Loud Player Free     4.2   \n",
       "...                                                    ...     ...   \n",
       "1118131                                        FleetEnable     0.0   \n",
       "1118132                                          AutoThink     0.0   \n",
       "1118133                                        FieldEnable     0.0   \n",
       "1118134                                       Live Concert     0.0   \n",
       "1118135                                       Rajput India     4.6   \n",
       "\n",
       "         Rating Count  Minimum Installs  Maximum Installs  Free  Price  \\\n",
       "0              2848.0          100000.0            351560     1    0.0   \n",
       "1             17297.0         1000000.0           2161778     1    0.0   \n",
       "2            488639.0        50000000.0          79304739     1    0.0   \n",
       "3           1224420.0       100000000.0         163660067     1    0.0   \n",
       "4               665.0           50000.0             73463     1    0.0   \n",
       "...               ...               ...               ...   ...    ...   \n",
       "1118131           NaN              10.0                10     1    0.0   \n",
       "1118132           0.0             100.0               127     1    0.0   \n",
       "1118133           0.0             100.0               282     1    0.0   \n",
       "1118134           0.0             500.0               986     1    0.0   \n",
       "1118135          81.0           10000.0             18892     1    0.0   \n",
       "\n",
       "         Ad Supported  In App Purchases  Editors Choice  ...  \\\n",
       "0                   0                 0               0  ...   \n",
       "1                   1                 1               0  ...   \n",
       "2                   1                 0               0  ...   \n",
       "3                   1                 1               0  ...   \n",
       "4                   0                 0               0  ...   \n",
       "...               ...               ...             ...  ...   \n",
       "1118131             0                 0               0  ...   \n",
       "1118132             0                 0               0  ...   \n",
       "1118133             0                 0               0  ...   \n",
       "1118134             0                 0               0  ...   \n",
       "1118135             1                 0               0  ...   \n",
       "\n",
       "         Category_Simulation  Category_Social  Category_Sports  \\\n",
       "0                          0                0                0   \n",
       "1                          0                0                0   \n",
       "2                          0                0                0   \n",
       "3                          0                0                0   \n",
       "4                          0                0                0   \n",
       "...                      ...              ...              ...   \n",
       "1118131                    0                0                0   \n",
       "1118132                    0                0                0   \n",
       "1118133                    0                0                0   \n",
       "1118134                    0                0                0   \n",
       "1118135                    0                1                0   \n",
       "\n",
       "         Category_Strategy  Category_Tools  Category_Travel & Local  \\\n",
       "0                        0               0                        0   \n",
       "1                        1               0                        0   \n",
       "2                        0               1                        0   \n",
       "3                        0               0                        0   \n",
       "4                        0               0                        0   \n",
       "...                    ...             ...                      ...   \n",
       "1118131                  0               0                        0   \n",
       "1118132                  0               0                        0   \n",
       "1118133                  0               0                        0   \n",
       "1118134                  0               0                        0   \n",
       "1118135                  0               0                        0   \n",
       "\n",
       "         Category_Trivia  Category_Video Players & Editors  Category_Weather  \\\n",
       "0                      0                                 0                 0   \n",
       "1                      0                                 0                 0   \n",
       "2                      0                                 0                 0   \n",
       "3                      0                                 0                 0   \n",
       "4                      0                                 0                 0   \n",
       "...                  ...                               ...               ...   \n",
       "1118131                0                                 0                 0   \n",
       "1118132                0                                 0                 0   \n",
       "1118133                0                                 0                 0   \n",
       "1118134                0                                 0                 0   \n",
       "1118135                0                                 0                 0   \n",
       "\n",
       "         Category_Word  \n",
       "0                    0  \n",
       "1                    0  \n",
       "2                    0  \n",
       "3                    0  \n",
       "4                    0  \n",
       "...                ...  \n",
       "1118131              0  \n",
       "1118132              0  \n",
       "1118133              0  \n",
       "1118134              0  \n",
       "1118135              0  \n",
       "\n",
       "[1118136 rows x 64 columns]"
      ]
     },
     "execution_count": 46,
     "metadata": {},
     "output_type": "execute_result"
    }
   ],
   "source": [
    "model"
   ]
  },
  {
   "cell_type": "markdown",
   "metadata": {},
   "source": [
    "Now train, test, split and train my regression model"
   ]
  },
  {
   "cell_type": "code",
   "execution_count": 47,
   "metadata": {
    "ExecuteTime": {
     "end_time": "2020-12-17T18:37:49.589469Z",
     "start_time": "2020-12-17T18:37:49.484303Z"
    }
   },
   "outputs": [],
   "source": [
    "model.drop(\"App Name\", axis=1, inplace=True)"
   ]
  },
  {
   "cell_type": "code",
   "execution_count": 48,
   "metadata": {
    "ExecuteTime": {
     "end_time": "2020-12-17T18:37:49.780499Z",
     "start_time": "2020-12-17T18:37:49.592568Z"
    }
   },
   "outputs": [
    {
     "data": {
      "text/html": [
       "<div>\n",
       "<style scoped>\n",
       "    .dataframe tbody tr th:only-of-type {\n",
       "        vertical-align: middle;\n",
       "    }\n",
       "\n",
       "    .dataframe tbody tr th {\n",
       "        vertical-align: top;\n",
       "    }\n",
       "\n",
       "    .dataframe thead th {\n",
       "        text-align: right;\n",
       "    }\n",
       "</style>\n",
       "<table border=\"1\" class=\"dataframe\">\n",
       "  <thead>\n",
       "    <tr style=\"text-align: right;\">\n",
       "      <th></th>\n",
       "      <th>Rating</th>\n",
       "      <th>Rating Count</th>\n",
       "      <th>Minimum Installs</th>\n",
       "      <th>Maximum Installs</th>\n",
       "      <th>Free</th>\n",
       "      <th>Price</th>\n",
       "      <th>Ad Supported</th>\n",
       "      <th>In App Purchases</th>\n",
       "      <th>Editors Choice</th>\n",
       "      <th>Content Rating_Adults only 18+</th>\n",
       "      <th>...</th>\n",
       "      <th>Category_Simulation</th>\n",
       "      <th>Category_Social</th>\n",
       "      <th>Category_Sports</th>\n",
       "      <th>Category_Strategy</th>\n",
       "      <th>Category_Tools</th>\n",
       "      <th>Category_Travel &amp; Local</th>\n",
       "      <th>Category_Trivia</th>\n",
       "      <th>Category_Video Players &amp; Editors</th>\n",
       "      <th>Category_Weather</th>\n",
       "      <th>Category_Word</th>\n",
       "    </tr>\n",
       "  </thead>\n",
       "  <tbody>\n",
       "    <tr>\n",
       "      <th>0</th>\n",
       "      <td>3.6</td>\n",
       "      <td>2848.0</td>\n",
       "      <td>100000.0</td>\n",
       "      <td>351560</td>\n",
       "      <td>1</td>\n",
       "      <td>0.0</td>\n",
       "      <td>0</td>\n",
       "      <td>0</td>\n",
       "      <td>0</td>\n",
       "      <td>0</td>\n",
       "      <td>...</td>\n",
       "      <td>0</td>\n",
       "      <td>0</td>\n",
       "      <td>0</td>\n",
       "      <td>0</td>\n",
       "      <td>0</td>\n",
       "      <td>0</td>\n",
       "      <td>0</td>\n",
       "      <td>0</td>\n",
       "      <td>0</td>\n",
       "      <td>0</td>\n",
       "    </tr>\n",
       "    <tr>\n",
       "      <th>1</th>\n",
       "      <td>4.3</td>\n",
       "      <td>17297.0</td>\n",
       "      <td>1000000.0</td>\n",
       "      <td>2161778</td>\n",
       "      <td>1</td>\n",
       "      <td>0.0</td>\n",
       "      <td>1</td>\n",
       "      <td>1</td>\n",
       "      <td>0</td>\n",
       "      <td>0</td>\n",
       "      <td>...</td>\n",
       "      <td>0</td>\n",
       "      <td>0</td>\n",
       "      <td>0</td>\n",
       "      <td>1</td>\n",
       "      <td>0</td>\n",
       "      <td>0</td>\n",
       "      <td>0</td>\n",
       "      <td>0</td>\n",
       "      <td>0</td>\n",
       "      <td>0</td>\n",
       "    </tr>\n",
       "    <tr>\n",
       "      <th>2</th>\n",
       "      <td>4.2</td>\n",
       "      <td>488639.0</td>\n",
       "      <td>50000000.0</td>\n",
       "      <td>79304739</td>\n",
       "      <td>1</td>\n",
       "      <td>0.0</td>\n",
       "      <td>1</td>\n",
       "      <td>0</td>\n",
       "      <td>0</td>\n",
       "      <td>0</td>\n",
       "      <td>...</td>\n",
       "      <td>0</td>\n",
       "      <td>0</td>\n",
       "      <td>0</td>\n",
       "      <td>0</td>\n",
       "      <td>1</td>\n",
       "      <td>0</td>\n",
       "      <td>0</td>\n",
       "      <td>0</td>\n",
       "      <td>0</td>\n",
       "      <td>0</td>\n",
       "    </tr>\n",
       "    <tr>\n",
       "      <th>3</th>\n",
       "      <td>4.2</td>\n",
       "      <td>1224420.0</td>\n",
       "      <td>100000000.0</td>\n",
       "      <td>163660067</td>\n",
       "      <td>1</td>\n",
       "      <td>0.0</td>\n",
       "      <td>1</td>\n",
       "      <td>1</td>\n",
       "      <td>0</td>\n",
       "      <td>0</td>\n",
       "      <td>...</td>\n",
       "      <td>0</td>\n",
       "      <td>0</td>\n",
       "      <td>0</td>\n",
       "      <td>0</td>\n",
       "      <td>0</td>\n",
       "      <td>0</td>\n",
       "      <td>0</td>\n",
       "      <td>0</td>\n",
       "      <td>0</td>\n",
       "      <td>0</td>\n",
       "    </tr>\n",
       "    <tr>\n",
       "      <th>4</th>\n",
       "      <td>4.2</td>\n",
       "      <td>665.0</td>\n",
       "      <td>50000.0</td>\n",
       "      <td>73463</td>\n",
       "      <td>1</td>\n",
       "      <td>0.0</td>\n",
       "      <td>0</td>\n",
       "      <td>0</td>\n",
       "      <td>0</td>\n",
       "      <td>0</td>\n",
       "      <td>...</td>\n",
       "      <td>0</td>\n",
       "      <td>0</td>\n",
       "      <td>0</td>\n",
       "      <td>0</td>\n",
       "      <td>0</td>\n",
       "      <td>0</td>\n",
       "      <td>0</td>\n",
       "      <td>0</td>\n",
       "      <td>0</td>\n",
       "      <td>0</td>\n",
       "    </tr>\n",
       "    <tr>\n",
       "      <th>...</th>\n",
       "      <td>...</td>\n",
       "      <td>...</td>\n",
       "      <td>...</td>\n",
       "      <td>...</td>\n",
       "      <td>...</td>\n",
       "      <td>...</td>\n",
       "      <td>...</td>\n",
       "      <td>...</td>\n",
       "      <td>...</td>\n",
       "      <td>...</td>\n",
       "      <td>...</td>\n",
       "      <td>...</td>\n",
       "      <td>...</td>\n",
       "      <td>...</td>\n",
       "      <td>...</td>\n",
       "      <td>...</td>\n",
       "      <td>...</td>\n",
       "      <td>...</td>\n",
       "      <td>...</td>\n",
       "      <td>...</td>\n",
       "      <td>...</td>\n",
       "    </tr>\n",
       "    <tr>\n",
       "      <th>1118131</th>\n",
       "      <td>0.0</td>\n",
       "      <td>NaN</td>\n",
       "      <td>10.0</td>\n",
       "      <td>10</td>\n",
       "      <td>1</td>\n",
       "      <td>0.0</td>\n",
       "      <td>0</td>\n",
       "      <td>0</td>\n",
       "      <td>0</td>\n",
       "      <td>0</td>\n",
       "      <td>...</td>\n",
       "      <td>0</td>\n",
       "      <td>0</td>\n",
       "      <td>0</td>\n",
       "      <td>0</td>\n",
       "      <td>0</td>\n",
       "      <td>0</td>\n",
       "      <td>0</td>\n",
       "      <td>0</td>\n",
       "      <td>0</td>\n",
       "      <td>0</td>\n",
       "    </tr>\n",
       "    <tr>\n",
       "      <th>1118132</th>\n",
       "      <td>0.0</td>\n",
       "      <td>0.0</td>\n",
       "      <td>100.0</td>\n",
       "      <td>127</td>\n",
       "      <td>1</td>\n",
       "      <td>0.0</td>\n",
       "      <td>0</td>\n",
       "      <td>0</td>\n",
       "      <td>0</td>\n",
       "      <td>0</td>\n",
       "      <td>...</td>\n",
       "      <td>0</td>\n",
       "      <td>0</td>\n",
       "      <td>0</td>\n",
       "      <td>0</td>\n",
       "      <td>0</td>\n",
       "      <td>0</td>\n",
       "      <td>0</td>\n",
       "      <td>0</td>\n",
       "      <td>0</td>\n",
       "      <td>0</td>\n",
       "    </tr>\n",
       "    <tr>\n",
       "      <th>1118133</th>\n",
       "      <td>0.0</td>\n",
       "      <td>0.0</td>\n",
       "      <td>100.0</td>\n",
       "      <td>282</td>\n",
       "      <td>1</td>\n",
       "      <td>0.0</td>\n",
       "      <td>0</td>\n",
       "      <td>0</td>\n",
       "      <td>0</td>\n",
       "      <td>0</td>\n",
       "      <td>...</td>\n",
       "      <td>0</td>\n",
       "      <td>0</td>\n",
       "      <td>0</td>\n",
       "      <td>0</td>\n",
       "      <td>0</td>\n",
       "      <td>0</td>\n",
       "      <td>0</td>\n",
       "      <td>0</td>\n",
       "      <td>0</td>\n",
       "      <td>0</td>\n",
       "    </tr>\n",
       "    <tr>\n",
       "      <th>1118134</th>\n",
       "      <td>0.0</td>\n",
       "      <td>0.0</td>\n",
       "      <td>500.0</td>\n",
       "      <td>986</td>\n",
       "      <td>1</td>\n",
       "      <td>0.0</td>\n",
       "      <td>0</td>\n",
       "      <td>0</td>\n",
       "      <td>0</td>\n",
       "      <td>0</td>\n",
       "      <td>...</td>\n",
       "      <td>0</td>\n",
       "      <td>0</td>\n",
       "      <td>0</td>\n",
       "      <td>0</td>\n",
       "      <td>0</td>\n",
       "      <td>0</td>\n",
       "      <td>0</td>\n",
       "      <td>0</td>\n",
       "      <td>0</td>\n",
       "      <td>0</td>\n",
       "    </tr>\n",
       "    <tr>\n",
       "      <th>1118135</th>\n",
       "      <td>4.6</td>\n",
       "      <td>81.0</td>\n",
       "      <td>10000.0</td>\n",
       "      <td>18892</td>\n",
       "      <td>1</td>\n",
       "      <td>0.0</td>\n",
       "      <td>1</td>\n",
       "      <td>0</td>\n",
       "      <td>0</td>\n",
       "      <td>0</td>\n",
       "      <td>...</td>\n",
       "      <td>0</td>\n",
       "      <td>1</td>\n",
       "      <td>0</td>\n",
       "      <td>0</td>\n",
       "      <td>0</td>\n",
       "      <td>0</td>\n",
       "      <td>0</td>\n",
       "      <td>0</td>\n",
       "      <td>0</td>\n",
       "      <td>0</td>\n",
       "    </tr>\n",
       "  </tbody>\n",
       "</table>\n",
       "<p>1118136 rows × 63 columns</p>\n",
       "</div>"
      ],
      "text/plain": [
       "         Rating  Rating Count  Minimum Installs  Maximum Installs  Free  \\\n",
       "0           3.6        2848.0          100000.0            351560     1   \n",
       "1           4.3       17297.0         1000000.0           2161778     1   \n",
       "2           4.2      488639.0        50000000.0          79304739     1   \n",
       "3           4.2     1224420.0       100000000.0         163660067     1   \n",
       "4           4.2         665.0           50000.0             73463     1   \n",
       "...         ...           ...               ...               ...   ...   \n",
       "1118131     0.0           NaN              10.0                10     1   \n",
       "1118132     0.0           0.0             100.0               127     1   \n",
       "1118133     0.0           0.0             100.0               282     1   \n",
       "1118134     0.0           0.0             500.0               986     1   \n",
       "1118135     4.6          81.0           10000.0             18892     1   \n",
       "\n",
       "         Price  Ad Supported  In App Purchases  Editors Choice  \\\n",
       "0          0.0             0                 0               0   \n",
       "1          0.0             1                 1               0   \n",
       "2          0.0             1                 0               0   \n",
       "3          0.0             1                 1               0   \n",
       "4          0.0             0                 0               0   \n",
       "...        ...           ...               ...             ...   \n",
       "1118131    0.0             0                 0               0   \n",
       "1118132    0.0             0                 0               0   \n",
       "1118133    0.0             0                 0               0   \n",
       "1118134    0.0             0                 0               0   \n",
       "1118135    0.0             1                 0               0   \n",
       "\n",
       "         Content Rating_Adults only 18+  ...  Category_Simulation  \\\n",
       "0                                     0  ...                    0   \n",
       "1                                     0  ...                    0   \n",
       "2                                     0  ...                    0   \n",
       "3                                     0  ...                    0   \n",
       "4                                     0  ...                    0   \n",
       "...                                 ...  ...                  ...   \n",
       "1118131                               0  ...                    0   \n",
       "1118132                               0  ...                    0   \n",
       "1118133                               0  ...                    0   \n",
       "1118134                               0  ...                    0   \n",
       "1118135                               0  ...                    0   \n",
       "\n",
       "         Category_Social  Category_Sports  Category_Strategy  Category_Tools  \\\n",
       "0                      0                0                  0               0   \n",
       "1                      0                0                  1               0   \n",
       "2                      0                0                  0               1   \n",
       "3                      0                0                  0               0   \n",
       "4                      0                0                  0               0   \n",
       "...                  ...              ...                ...             ...   \n",
       "1118131                0                0                  0               0   \n",
       "1118132                0                0                  0               0   \n",
       "1118133                0                0                  0               0   \n",
       "1118134                0                0                  0               0   \n",
       "1118135                1                0                  0               0   \n",
       "\n",
       "         Category_Travel & Local  Category_Trivia  \\\n",
       "0                              0                0   \n",
       "1                              0                0   \n",
       "2                              0                0   \n",
       "3                              0                0   \n",
       "4                              0                0   \n",
       "...                          ...              ...   \n",
       "1118131                        0                0   \n",
       "1118132                        0                0   \n",
       "1118133                        0                0   \n",
       "1118134                        0                0   \n",
       "1118135                        0                0   \n",
       "\n",
       "         Category_Video Players & Editors  Category_Weather  Category_Word  \n",
       "0                                       0                 0              0  \n",
       "1                                       0                 0              0  \n",
       "2                                       0                 0              0  \n",
       "3                                       0                 0              0  \n",
       "4                                       0                 0              0  \n",
       "...                                   ...               ...            ...  \n",
       "1118131                                 0                 0              0  \n",
       "1118132                                 0                 0              0  \n",
       "1118133                                 0                 0              0  \n",
       "1118134                                 0                 0              0  \n",
       "1118135                                 0                 0              0  \n",
       "\n",
       "[1118136 rows x 63 columns]"
      ]
     },
     "execution_count": 48,
     "metadata": {},
     "output_type": "execute_result"
    }
   ],
   "source": [
    "model"
   ]
  },
  {
   "cell_type": "code",
   "execution_count": 49,
   "metadata": {
    "ExecuteTime": {
     "end_time": "2020-12-17T18:37:49.794901Z",
     "start_time": "2020-12-17T18:37:49.783346Z"
    }
   },
   "outputs": [
    {
     "data": {
      "text/plain": [
       "Index(['Rating', 'Rating Count', 'Minimum Installs', 'Maximum Installs',\n",
       "       'Free', 'Price', 'Ad Supported', 'In App Purchases', 'Editors Choice',\n",
       "       'Content Rating_Adults only 18+', 'Content Rating_Everyone',\n",
       "       'Content Rating_Everyone 10+', 'Content Rating_Mature 17+',\n",
       "       'Content Rating_Teen', 'Content Rating_Unrated', 'Category_Action',\n",
       "       'Category_Adventure', 'Category_Arcade', 'Category_Art & Design',\n",
       "       'Category_Auto & Vehicles', 'Category_Beauty', 'Category_Board',\n",
       "       'Category_Books & Reference', 'Category_Business', 'Category_Card',\n",
       "       'Category_Casino', 'Category_Casual', 'Category_Comics',\n",
       "       'Category_Communication', 'Category_Dating', 'Category_Education',\n",
       "       'Category_Educational', 'Category_Entertainment', 'Category_Events',\n",
       "       'Category_Finance', 'Category_Food & Drink',\n",
       "       'Category_Health & Fitness', 'Category_House & Home',\n",
       "       'Category_Libraries & Demo', 'Category_Lifestyle',\n",
       "       'Category_Maps & Navigation', 'Category_Medical', 'Category_Music',\n",
       "       'Category_Music & Audio', 'Category_News & Magazines',\n",
       "       'Category_Parenting', 'Category_Personalization',\n",
       "       'Category_Photography', 'Category_Productivity', 'Category_Puzzle',\n",
       "       'Category_Racing', 'Category_Role Playing', 'Category_Shopping',\n",
       "       'Category_Simulation', 'Category_Social', 'Category_Sports',\n",
       "       'Category_Strategy', 'Category_Tools', 'Category_Travel & Local',\n",
       "       'Category_Trivia', 'Category_Video Players & Editors',\n",
       "       'Category_Weather', 'Category_Word'],\n",
       "      dtype='object')"
      ]
     },
     "execution_count": 49,
     "metadata": {},
     "output_type": "execute_result"
    }
   ],
   "source": [
    "model.columns"
   ]
  },
  {
   "cell_type": "code",
   "execution_count": 50,
   "metadata": {
    "ExecuteTime": {
     "end_time": "2020-12-17T18:37:49.976101Z",
     "start_time": "2020-12-17T18:37:49.798782Z"
    }
   },
   "outputs": [
    {
     "data": {
      "text/plain": [
       "Rating                                 0\n",
       "Rating Count                        6850\n",
       "Minimum Installs                     161\n",
       "Maximum Installs                       0\n",
       "Free                                   0\n",
       "                                    ... \n",
       "Category_Travel & Local                0\n",
       "Category_Trivia                        0\n",
       "Category_Video Players & Editors       0\n",
       "Category_Weather                       0\n",
       "Category_Word                          0\n",
       "Length: 63, dtype: int64"
      ]
     },
     "execution_count": 50,
     "metadata": {},
     "output_type": "execute_result"
    }
   ],
   "source": [
    "model.isnull().sum()"
   ]
  },
  {
   "cell_type": "code",
   "execution_count": 51,
   "metadata": {
    "ExecuteTime": {
     "end_time": "2020-12-17T18:37:50.004419Z",
     "start_time": "2020-12-17T18:37:49.978966Z"
    }
   },
   "outputs": [],
   "source": [
    "model.fillna(0, axis=1, inplace=True)"
   ]
  },
  {
   "cell_type": "code",
   "execution_count": 52,
   "metadata": {
    "ExecuteTime": {
     "end_time": "2020-12-17T18:37:50.142903Z",
     "start_time": "2020-12-17T18:37:50.006899Z"
    }
   },
   "outputs": [
    {
     "data": {
      "text/plain": [
       "Rating                              0\n",
       "Rating Count                        0\n",
       "Minimum Installs                    0\n",
       "Maximum Installs                    0\n",
       "Free                                0\n",
       "                                   ..\n",
       "Category_Travel & Local             0\n",
       "Category_Trivia                     0\n",
       "Category_Video Players & Editors    0\n",
       "Category_Weather                    0\n",
       "Category_Word                       0\n",
       "Length: 63, dtype: int64"
      ]
     },
     "execution_count": 52,
     "metadata": {},
     "output_type": "execute_result"
    }
   ],
   "source": [
    "model.isnull().sum()"
   ]
  },
  {
   "cell_type": "code",
   "execution_count": null,
   "metadata": {},
   "outputs": [],
   "source": []
  },
  {
   "cell_type": "code",
   "execution_count": 53,
   "metadata": {
    "ExecuteTime": {
     "end_time": "2020-12-17T18:37:50.152073Z",
     "start_time": "2020-12-17T18:37:50.146406Z"
    }
   },
   "outputs": [],
   "source": [
    "y = model.Rating"
   ]
  },
  {
   "cell_type": "code",
   "execution_count": 54,
   "metadata": {
    "ExecuteTime": {
     "end_time": "2020-12-17T18:37:50.231329Z",
     "start_time": "2020-12-17T18:37:50.156282Z"
    }
   },
   "outputs": [],
   "source": [
    "X = model.drop(\"Rating\", axis=1)"
   ]
  },
  {
   "cell_type": "code",
   "execution_count": 55,
   "metadata": {
    "ExecuteTime": {
     "end_time": "2020-12-17T18:37:50.310871Z",
     "start_time": "2020-12-17T18:37:50.235290Z"
    }
   },
   "outputs": [],
   "source": [
    "from sklearn.model_selection import train_test_split"
   ]
  },
  {
   "cell_type": "code",
   "execution_count": 56,
   "metadata": {
    "ExecuteTime": {
     "end_time": "2020-12-17T18:37:50.926528Z",
     "start_time": "2020-12-17T18:37:50.315573Z"
    }
   },
   "outputs": [],
   "source": [
    "X_train, X_test, y_train, y_test = train_test_split(X,y, random_state=42)"
   ]
  },
  {
   "cell_type": "markdown",
   "metadata": {},
   "source": [
    "Set-up Models for Ridge, Lasso, Elastic Net in order to compare results"
   ]
  },
  {
   "cell_type": "code",
   "execution_count": 57,
   "metadata": {
    "ExecuteTime": {
     "end_time": "2020-12-17T18:37:50.937023Z",
     "start_time": "2020-12-17T18:37:50.929227Z"
    }
   },
   "outputs": [
    {
     "data": {
      "text/plain": [
       "(838602, 62)"
      ]
     },
     "execution_count": 57,
     "metadata": {},
     "output_type": "execute_result"
    }
   ],
   "source": [
    "X_train.shape"
   ]
  },
  {
   "cell_type": "code",
   "execution_count": 58,
   "metadata": {
    "ExecuteTime": {
     "end_time": "2020-12-17T18:37:50.948327Z",
     "start_time": "2020-12-17T18:37:50.940216Z"
    }
   },
   "outputs": [
    {
     "data": {
      "text/plain": [
       "(279534, 62)"
      ]
     },
     "execution_count": 58,
     "metadata": {},
     "output_type": "execute_result"
    }
   ],
   "source": [
    "X_test.shape"
   ]
  },
  {
   "cell_type": "code",
   "execution_count": 59,
   "metadata": {
    "ExecuteTime": {
     "end_time": "2020-12-17T18:37:50.965256Z",
     "start_time": "2020-12-17T18:37:50.951376Z"
    }
   },
   "outputs": [
    {
     "data": {
      "text/plain": [
       "(838602,)"
      ]
     },
     "execution_count": 59,
     "metadata": {},
     "output_type": "execute_result"
    }
   ],
   "source": [
    "y_train.shape"
   ]
  },
  {
   "cell_type": "code",
   "execution_count": 60,
   "metadata": {
    "ExecuteTime": {
     "end_time": "2020-12-17T18:37:50.977608Z",
     "start_time": "2020-12-17T18:37:50.968151Z"
    }
   },
   "outputs": [
    {
     "data": {
      "text/plain": [
       "(279534,)"
      ]
     },
     "execution_count": 60,
     "metadata": {},
     "output_type": "execute_result"
    }
   ],
   "source": [
    "y_test.shape"
   ]
  },
  {
   "cell_type": "code",
   "execution_count": 61,
   "metadata": {
    "ExecuteTime": {
     "end_time": "2020-12-17T18:37:50.990529Z",
     "start_time": "2020-12-17T18:37:50.980165Z"
    }
   },
   "outputs": [],
   "source": [
    "y_train = y_train.values.reshape(-1,1)"
   ]
  },
  {
   "cell_type": "code",
   "execution_count": 62,
   "metadata": {
    "ExecuteTime": {
     "end_time": "2020-12-17T18:37:51.006807Z",
     "start_time": "2020-12-17T18:37:50.997740Z"
    }
   },
   "outputs": [],
   "source": [
    "y_test = y_test.values.reshape(-1,1)"
   ]
  },
  {
   "cell_type": "code",
   "execution_count": 64,
   "metadata": {
    "ExecuteTime": {
     "end_time": "2020-12-17T18:38:18.265822Z",
     "start_time": "2020-12-17T18:38:18.259505Z"
    }
   },
   "outputs": [
    {
     "name": "stdout",
     "output_type": "stream",
     "text": [
      "(838602, 1)\n",
      "(279534, 1)\n"
     ]
    }
   ],
   "source": [
    "print(y_train.shape)\n",
    "print(y_test.shape)"
   ]
  },
  {
   "cell_type": "code",
   "execution_count": 65,
   "metadata": {
    "ExecuteTime": {
     "end_time": "2020-12-17T18:38:21.431507Z",
     "start_time": "2020-12-17T18:38:21.371919Z"
    }
   },
   "outputs": [],
   "source": [
    "from sklearn.linear_model import LinearRegression, Ridge, Lasso, ElasticNet\n",
    "from sklearn.metrics import mean_squared_error\n",
    "from sklearn.metrics import r2_score"
   ]
  },
  {
   "cell_type": "code",
   "execution_count": 66,
   "metadata": {
    "ExecuteTime": {
     "end_time": "2020-12-17T18:39:16.754368Z",
     "start_time": "2020-12-17T18:39:16.750278Z"
    }
   },
   "outputs": [],
   "source": [
    "lm = LinearRegression()"
   ]
  },
  {
   "cell_type": "code",
   "execution_count": 67,
   "metadata": {
    "ExecuteTime": {
     "end_time": "2020-12-17T18:39:30.416452Z",
     "start_time": "2020-12-17T18:39:27.469347Z"
    }
   },
   "outputs": [
    {
     "data": {
      "text/plain": [
       "LinearRegression()"
      ]
     },
     "execution_count": 67,
     "metadata": {},
     "output_type": "execute_result"
    }
   ],
   "source": [
    "lm.fit(X_train , y_train)"
   ]
  },
  {
   "cell_type": "code",
   "execution_count": 69,
   "metadata": {
    "ExecuteTime": {
     "end_time": "2020-12-17T18:39:58.317414Z",
     "start_time": "2020-12-17T18:39:58.188193Z"
    }
   },
   "outputs": [],
   "source": [
    "y_pred = lm.predict(X_test)"
   ]
  },
  {
   "cell_type": "code",
   "execution_count": 71,
   "metadata": {
    "ExecuteTime": {
     "end_time": "2020-12-17T18:40:51.623301Z",
     "start_time": "2020-12-17T18:40:51.616715Z"
    }
   },
   "outputs": [
    {
     "data": {
      "text/plain": [
       "(279534, 1)"
      ]
     },
     "execution_count": 71,
     "metadata": {},
     "output_type": "execute_result"
    }
   ],
   "source": [
    "y_pred.shape"
   ]
  },
  {
   "cell_type": "code",
   "execution_count": 72,
   "metadata": {
    "ExecuteTime": {
     "end_time": "2020-12-17T18:41:03.076630Z",
     "start_time": "2020-12-17T18:41:03.069759Z"
    }
   },
   "outputs": [
    {
     "data": {
      "text/plain": [
       "(279534, 1)"
      ]
     },
     "execution_count": 72,
     "metadata": {},
     "output_type": "execute_result"
    }
   ],
   "source": [
    "y_test.shape"
   ]
  },
  {
   "cell_type": "code",
   "execution_count": 76,
   "metadata": {
    "ExecuteTime": {
     "end_time": "2020-12-17T18:52:18.113358Z",
     "start_time": "2020-12-17T18:52:18.087458Z"
    }
   },
   "outputs": [
    {
     "data": {
      "text/plain": [
       "3.9743974037482657"
      ]
     },
     "execution_count": 76,
     "metadata": {},
     "output_type": "execute_result"
    }
   ],
   "source": [
    "mean_squared_error(y_test, y_pred, squared=True)"
   ]
  },
  {
   "cell_type": "code",
   "execution_count": 74,
   "metadata": {
    "ExecuteTime": {
     "end_time": "2020-12-17T18:43:13.267607Z",
     "start_time": "2020-12-17T18:43:13.244538Z"
    }
   },
   "outputs": [
    {
     "data": {
      "text/plain": [
       "0.06023706754036218"
      ]
     },
     "execution_count": 74,
     "metadata": {},
     "output_type": "execute_result"
    }
   ],
   "source": [
    "r2_score(y_test, y_pred)"
   ]
  },
  {
   "cell_type": "code",
   "execution_count": 79,
   "metadata": {
    "ExecuteTime": {
     "end_time": "2020-12-17T19:05:11.769949Z",
     "start_time": "2020-12-17T19:05:11.359133Z"
    }
   },
   "outputs": [
    {
     "data": {
      "text/plain": [
       "0.06023706754036218"
      ]
     },
     "execution_count": 79,
     "metadata": {},
     "output_type": "execute_result"
    }
   ],
   "source": [
    "lm.score(X_test, y_test)"
   ]
  },
  {
   "cell_type": "code",
   "execution_count": 80,
   "metadata": {
    "ExecuteTime": {
     "end_time": "2020-12-17T19:07:55.601782Z",
     "start_time": "2020-12-17T19:07:55.595909Z"
    }
   },
   "outputs": [
    {
     "data": {
      "text/plain": [
       "array([4.55084931])"
      ]
     },
     "execution_count": 80,
     "metadata": {},
     "output_type": "execute_result"
    }
   ],
   "source": [
    "lm.intercept_"
   ]
  },
  {
   "cell_type": "code",
   "execution_count": 81,
   "metadata": {
    "ExecuteTime": {
     "end_time": "2020-12-17T19:08:07.478770Z",
     "start_time": "2020-12-17T19:08:07.467432Z"
    }
   },
   "outputs": [
    {
     "data": {
      "text/plain": [
       "array([[ 1.50621074e-08, -8.79147890e-10,  1.12296321e-09,\n",
       "         2.71740885e-01, -2.85350110e-03,  2.15858011e-01,\n",
       "         1.03355973e+00,  9.13435848e-01,  1.69098024e-01,\n",
       "        -2.30611751e-01, -1.11903022e-01, -2.38355270e-01,\n",
       "        -2.93706366e-01,  7.05477951e-01, -2.02167528e+00,\n",
       "        -1.96244269e+00, -2.33425546e+00, -2.91207555e+00,\n",
       "        -2.54608375e+00, -3.07174890e+00, -1.92507907e+00,\n",
       "        -2.21643424e+00, -2.96508764e+00, -1.78725350e+00,\n",
       "        -1.79789617e+00, -2.21805700e+00, -1.99615926e+00,\n",
       "        -2.28380475e+00, -2.35573333e+00, -2.33643065e+00,\n",
       "        -2.18763149e+00, -2.37242394e+00, -3.40529264e+00,\n",
       "        -2.01553767e+00, -3.24206900e+00, -2.72743309e+00,\n",
       "        -3.21206946e+00, -2.21092450e+00, -2.41417842e+00,\n",
       "        -2.24903036e+00, -2.53858570e+00, -2.26226742e+00,\n",
       "        -2.51204476e+00, -2.26268702e+00, -2.15326268e+00,\n",
       "        -1.99764863e+00, -2.36191855e+00, -2.46757033e+00,\n",
       "        -2.15388712e+00, -1.96016163e+00, -1.76256502e+00,\n",
       "        -2.61977537e+00, -1.82806083e+00, -2.21997340e+00,\n",
       "        -2.25855003e+00, -1.98085630e+00, -2.14518092e+00,\n",
       "        -2.60335000e+00, -2.30540564e+00, -1.93999096e+00,\n",
       "        -1.56689411e+00, -2.06444546e+00]])"
      ]
     },
     "execution_count": 81,
     "metadata": {},
     "output_type": "execute_result"
    }
   ],
   "source": [
    "lm.coef_"
   ]
  },
  {
   "cell_type": "code",
   "execution_count": 83,
   "metadata": {
    "ExecuteTime": {
     "end_time": "2020-12-17T19:10:57.263405Z",
     "start_time": "2020-12-17T19:10:57.250233Z"
    }
   },
   "outputs": [
    {
     "ename": "AttributeError",
     "evalue": "'LinearRegression' object has no attribute 'summary'",
     "output_type": "error",
     "traceback": [
      "\u001b[0;31m---------------------------------------------------------------------------\u001b[0m",
      "\u001b[0;31mAttributeError\u001b[0m                            Traceback (most recent call last)",
      "\u001b[0;32m<ipython-input-83-f8b0555c09cb>\u001b[0m in \u001b[0;36m<module>\u001b[0;34m\u001b[0m\n\u001b[0;32m----> 1\u001b[0;31m \u001b[0mlm\u001b[0m\u001b[0;34m.\u001b[0m\u001b[0msummary\u001b[0m\u001b[0;34m\u001b[0m\u001b[0;34m\u001b[0m\u001b[0m\n\u001b[0m",
      "\u001b[0;31mAttributeError\u001b[0m: 'LinearRegression' object has no attribute 'summary'"
     ]
    }
   ],
   "source": [
    "lm.summary"
   ]
  },
  {
   "cell_type": "code",
   "execution_count": null,
   "metadata": {},
   "outputs": [],
   "source": []
  }
 ],
 "metadata": {
  "kernelspec": {
   "display_name": "Python 3",
   "language": "python",
   "name": "python3"
  },
  "language_info": {
   "codemirror_mode": {
    "name": "ipython",
    "version": 3
   },
   "file_extension": ".py",
   "mimetype": "text/x-python",
   "name": "python",
   "nbconvert_exporter": "python",
   "pygments_lexer": "ipython3",
   "version": "3.8.3"
  },
  "varInspector": {
   "cols": {
    "lenName": 16,
    "lenType": 16,
    "lenVar": 40
   },
   "kernels_config": {
    "python": {
     "delete_cmd_postfix": "",
     "delete_cmd_prefix": "del ",
     "library": "var_list.py",
     "varRefreshCmd": "print(var_dic_list())"
    },
    "r": {
     "delete_cmd_postfix": ") ",
     "delete_cmd_prefix": "rm(",
     "library": "var_list.r",
     "varRefreshCmd": "cat(var_dic_list()) "
    }
   },
   "types_to_exclude": [
    "module",
    "function",
    "builtin_function_or_method",
    "instance",
    "_Feature"
   ],
   "window_display": false
  }
 },
 "nbformat": 4,
 "nbformat_minor": 4
}
